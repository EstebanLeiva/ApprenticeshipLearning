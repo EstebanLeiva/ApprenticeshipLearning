{
 "cells": [
  {
   "cell_type": "code",
   "execution_count": 1,
   "metadata": {},
   "outputs": [],
   "source": [
    "import numpy as np\n",
    "from apprenticheshiplearning.utils.gridworld import plot_gridworld, plot_cost_function, plot_occupation, sanity_check, plot_policy\n",
    "from apprenticheshiplearning.problems.gridworld import GridWorld\n",
    "from apprenticheshiplearning.classes.solver import SolverMdp, SolverIRL, SolverApp"
   ]
  },
  {
   "cell_type": "markdown",
   "metadata": {},
   "source": [
    "### Setting"
   ]
  },
  {
   "cell_type": "code",
   "execution_count": 2,
   "metadata": {},
   "outputs": [],
   "source": [
    "# Parameters\n",
    "n = 10\n",
    "wind_intensity = 0.0 # between 0 and 1\n",
    "gamma = 0.7"
   ]
  },
  {
   "cell_type": "code",
   "execution_count": 3,
   "metadata": {},
   "outputs": [],
   "source": [
    "grid = np.zeros((n, n))\n",
    "goal = [                    \n",
    "        [n-1, n-2], \n",
    "        [n-1]\n",
    "        ]\n",
    "obstacles = [\n",
    "                [i for  i in range(0,int(n/1.2))],\n",
    "                [int(n/2)]\n",
    "                \n",
    "            ]\n",
    "actions = [\"up\", \"down\", \"left\", \"right\"]\n",
    "init_dist = np.ones((n,n))/(n**2)"
   ]
  },
  {
   "cell_type": "code",
   "execution_count": 4,
   "metadata": {},
   "outputs": [
    {
     "data": {
      "text/plain": [
       "[[0, 1, 2, 3, 4, 5, 6, 7], [5]]"
      ]
     },
     "execution_count": 4,
     "metadata": {},
     "output_type": "execute_result"
    }
   ],
   "source": [
    "obstacles"
   ]
  },
  {
   "cell_type": "code",
   "execution_count": 5,
   "metadata": {},
   "outputs": [
    {
     "data": {
      "image/png": "[encoded data removed]",
      "text/plain": [
       "<Figure size 640x480 with 1 Axes>"
      ]
     },
     "metadata": {},
     "output_type": "display_data"
    }
   ],
   "source": [
    "plot_gridworld(grid, obstacles, goal)"
   ]
  },
  {
   "cell_type": "code",
   "execution_count": 6,
   "metadata": {},
   "outputs": [],
   "source": [
    "def transitions(s1, s , a, goal, n): #go from s to s1 with action a\n",
    "    if a == \"up\":\n",
    "        if s[0] in goal[0] and s[1] in goal[1]:\n",
    "            if s1[0] == s[0] and s1[1] == s[1]:\n",
    "                return 1\n",
    "            else:\n",
    "                return 0\n",
    "        if s[0] != 0 and s[1] == n - 1:\n",
    "            if s1[0] == s[0] and s1[1] == s[1]:\n",
    "                return 1 - wind_intensity\n",
    "            elif s1[0] == s[0] - 1 and s1[1] == s[1]:\n",
    "                return wind_intensity\n",
    "            else:\n",
    "                return 0\n",
    "        elif s[0] == 0 and s[1] == n - 1:\n",
    "            if s1[0] == s[0] and s1[1] == s[1]:\n",
    "                return 1\n",
    "            else:\n",
    "                return 0\n",
    "        elif s[0] == 0 and s[1] < n - 1:\n",
    "            if s1[0] == s[0] and s1[1] == s[1] + 1:\n",
    "                return 1\n",
    "            else:\n",
    "                return 0\n",
    "        else:\n",
    "            if s1[0] == s[0] and s1[1] == s[1] + 1:\n",
    "                return 1 - wind_intensity\n",
    "            elif s1[0] == s[0] - 1 and s1[1] == s[1] + 1:\n",
    "                return wind_intensity\n",
    "            else:\n",
    "                return 0\n",
    "            \n",
    "    if a == \"down\":\n",
    "        if s[0] in goal[0] and s[1] in goal[1]:\n",
    "            if s1[0] == s[0] and s1[1] == s[1]:\n",
    "                return 1\n",
    "            else:\n",
    "                return 0\n",
    "        if s[0] != 0 and s[1] == 0:\n",
    "            if s1[0] == s[0] and s1[1] == s[1]:\n",
    "                return 1 - wind_intensity\n",
    "            elif s1[0] == s[0] - 1 and s1[1] == s[1]:\n",
    "                return wind_intensity\n",
    "            else:\n",
    "                return 0\n",
    "        elif s[0] == 0 and s[1] == 0:\n",
    "            if s1[0] == s[0] and s1[1] == s[1]:\n",
    "                return 1\n",
    "            else:\n",
    "                return 0\n",
    "        elif s[0] == 0 and s[1] > 0:\n",
    "            if s1[0] == s[0] and s1[1] == s[1] - 1:\n",
    "                return 1\n",
    "            else:\n",
    "                return 0\n",
    "        else:\n",
    "            if s1[0] == s[0] and s1[1] == s[1] - 1:\n",
    "                return 1 - wind_intensity\n",
    "            elif s1[0] == s[0] - 1 and s1[1] == s[1] - 1:\n",
    "                return wind_intensity\n",
    "            else:\n",
    "                return 0\n",
    "\n",
    "    if a == \"left\":\n",
    "        if s[0] in goal[0] and s[1] in goal[1]:\n",
    "            if s1[0] == s[0] and s1[1] == s[1]:\n",
    "                return 1\n",
    "            else:\n",
    "                return 0\n",
    "        if s[0] == 0:\n",
    "            if s1[0] == s[0] and s1[1] == s[1]:\n",
    "                return 1\n",
    "            else:\n",
    "                return 0\n",
    "        elif s[0] == 1:\n",
    "            if s1[0] == s[0] - 1 and s1[1] == s[1]:\n",
    "                return 1\n",
    "            else:\n",
    "                return 0\n",
    "        else:\n",
    "            if s1[0] == s[0] - 1 and s1[1] == s[1]:\n",
    "                return 1 - wind_intensity\n",
    "            elif s1[0] == s[0] - 2 and s1[1] == s[1]:\n",
    "                return wind_intensity\n",
    "            else:\n",
    "                return 0\n",
    "\n",
    "    if a == \"right\":\n",
    "        if s[0] in goal[0] and s[1] in goal[1]:\n",
    "            if s1[0] == s[0] and s1[1] == s[1]:\n",
    "                return 1\n",
    "            else:\n",
    "                return 0\n",
    "        if s[0] == n - 1:\n",
    "            if s1[0] == s[0] and s1[1] == s[1]:\n",
    "                return 1\n",
    "            else:\n",
    "                return 0\n",
    "        else:\n",
    "            if s1[0] == s[0] + 1 and s1[1] == s[1]:\n",
    "                return 1 - wind_intensity\n",
    "            elif s1[0] == s[0] and s1[1] == s[1]:\n",
    "                return wind_intensity\n",
    "            else:\n",
    "                return 0\n",
    "\n",
    "def cost(s, a, goal, obstacles):\n",
    "    r = 0\n",
    "    if s[0] in obstacles[0] and s[1] in obstacles[1]:\n",
    "        r = 1\n",
    "    elif s[0] in goal[0] and s[1] in goal[1]:\n",
    "        r = -1\n",
    "    return r"
   ]
  },
  {
   "cell_type": "markdown",
   "metadata": {},
   "source": [
    "### Forward "
   ]
  },
  {
   "cell_type": "code",
   "execution_count": 7,
   "metadata": {},
   "outputs": [
    {
     "name": "stdout",
     "output_type": "stream",
     "text": [
      "===============================================================================\n",
      "                                     CVXPY                                     \n",
      "                                     v1.5.3                                    \n",
      "===============================================================================\n",
      "(CVXPY) Nov 27 02:54:35 PM: Your problem has 400 variables, 500 constraints, and 0 parameters.\n",
      "(CVXPY) Nov 27 02:54:35 PM: It is compliant with the following grammars: DCP, DQCP\n",
      "(CVXPY) Nov 27 02:54:35 PM: (If you need to solve this problem multiple times, but with different data, consider using parameters.)\n",
      "(CVXPY) Nov 27 02:54:35 PM: CVXPY will first compile your problem; then, it will invoke a numerical solver to obtain a solution.\n",
      "(CVXPY) Nov 27 02:54:35 PM: Your problem is compiled with the CPP canonicalization backend.\n",
      "-------------------------------------------------------------------------------\n",
      "                                  Compilation                                  \n",
      "-------------------------------------------------------------------------------\n",
      "(CVXPY) Nov 27 02:54:35 PM: Compiling problem (target solver=CLARABEL).\n",
      "(CVXPY) Nov 27 02:54:35 PM: Reduction chain: Dcp2Cone -> CvxAttr2Constr -> ConeMatrixStuffing -> CLARABEL\n",
      "(CVXPY) Nov 27 02:54:35 PM: Applying reduction Dcp2Cone\n",
      "(CVXPY) Nov 27 02:54:35 PM: Applying reduction CvxAttr2Constr\n",
      "(CVXPY) Nov 27 02:54:35 PM: Applying reduction ConeMatrixStuffing\n",
      "(CVXPY) Nov 27 02:54:35 PM: Applying reduction CLARABEL\n",
      "(CVXPY) Nov 27 02:54:35 PM: Finished problem compilation (took 8.019e-03 seconds).\n",
      "-------------------------------------------------------------------------------\n",
      "                                Numerical solver                               \n",
      "-------------------------------------------------------------------------------\n",
      "(CVXPY) Nov 27 02:54:35 PM: Invoking solver CLARABEL  to obtain a solution.\n",
      "-------------------------------------------------------------\n",
      "           Clarabel.rs v0.9.0  -  Clever Acronym                \n",
      "\n",
      "                   (c) Paul Goulart                          \n",
      "                University of Oxford, 2022                   \n",
      "-------------------------------------------------------------\n",
      "\n",
      "problem:\n",
      "  variables     = 400\n",
      "  constraints   = 500\n",
      "  nnz(P)        = 0\n",
      "  nnz(A)        = 1155\n",
      "  cones (total) = 2\n",
      "    :        Zero = 1,  numel = 100\n",
      "    : Nonnegative = 1,  numel = 400\n",
      "\n",
      "settings:\n",
      "  linear algebra: direct / qdldl, precision: 64 bit\n",
      "  max iter = 200, time limit = Inf,  max step = 0.990\n",
      "  tol_feas = 1.0e-8, tol_gap_abs = 1.0e-8, tol_gap_rel = 1.0e-8,\n",
      "  static reg : on, ϵ1 = 1.0e-8, ϵ2 = 4.9e-32\n",
      "  dynamic reg: on, ϵ = 1.0e-13, δ = 2.0e-7\n",
      "  iter refine: on, reltol = 1.0e-13, abstol = 1.0e-12,\n",
      "               max iter = 10, stop ratio = 5.0\n",
      "  equilibrate: on, min_scale = 1.0e-4, max_scale = 1.0e4\n",
      "               max iter = 10\n",
      "\n",
      "iter    pcost        dcost       gap       pres      dres      k/t        μ       step      \n",
      "---------------------------------------------------------------------------------------------\n",
      "  0  +1.8410e-01  +1.8410e-01  2.78e-17  9.85e-01  9.59e-01  1.00e+00  1.86e+00   ------   \n",
      "  1  -2.7452e+00  -2.7761e+00  1.13e-02  6.49e-01  1.86e-01  1.80e-01  5.18e-01  8.44e-01  \n",
      "  2  -1.3156e+00  -1.2955e+00  1.55e-02  4.20e-01  6.40e-02  5.43e-02  2.06e-01  7.09e-01  \n",
      "  3  -6.5283e-01  -6.4410e-01  8.73e-03  2.08e-01  2.88e-02  1.91e-02  1.13e-01  5.58e-01  \n",
      "  4  -4.6216e-01  -4.5924e-01  2.92e-03  7.19e-02  1.08e-02  6.50e-03  5.06e-02  6.11e-01  \n",
      "  5  -4.0788e-01  -4.0697e-01  9.08e-04  2.87e-02  4.38e-03  2.34e-03  2.21e-02  6.37e-01  \n",
      "  6  -3.8469e-01  -3.8454e-01  1.52e-04  9.33e-03  1.43e-03  6.17e-04  7.47e-03  7.47e-01  \n",
      "  7  -3.7548e-01  -3.7546e-01  1.52e-05  1.82e-03  2.79e-04  1.06e-04  1.48e-03  8.32e-01  \n",
      "  8  -3.7348e-01  -3.7348e-01  7.10e-07  1.10e-04  1.68e-05  6.19e-06  8.98e-05  9.42e-01  \n",
      "  9  -3.7336e-01  -3.7336e-01  9.04e-09  1.47e-06  2.25e-07  8.23e-08  1.20e-06  9.87e-01  \n",
      " 10  -3.7336e-01  -3.7336e-01  9.04e-11  1.47e-08  2.25e-09  8.23e-10  1.20e-08  9.90e-01  \n",
      " 11  -3.7336e-01  -3.7336e-01  9.04e-13  1.47e-10  2.25e-11  8.23e-12  1.20e-10  9.90e-01  \n",
      "---------------------------------------------------------------------------------------------\n",
      "Terminated with status = Solved\n",
      "solve time = 2.0847ms\n",
      "-------------------------------------------------------------------------------\n",
      "                                    Summary                                    \n",
      "-------------------------------------------------------------------------------\n",
      "(CVXPY) Nov 27 02:54:35 PM: Problem status: optimal\n",
      "(CVXPY) Nov 27 02:54:35 PM: Optimal value: -3.734e-01\n",
      "(CVXPY) Nov 27 02:54:35 PM: Compilation took 8.019e-03 seconds\n",
      "(CVXPY) Nov 27 02:54:35 PM: Solver (including time spent in interface) took 0.000e+00 seconds\n"
     ]
    }
   ],
   "source": [
    "gridworld = GridWorld(grid, obstacles, goal, actions, transitions, init_dist, cost, gamma)\n",
    "gridworld.get_mdp_forward()\n",
    "gridworld.mdp_forward.build_T()\n",
    "solver_expert = SolverMdp(gridworld.mdp_forward)\n",
    "prob, mu_e = solver_expert.solve()"
   ]
  },
  {
   "cell_type": "code",
   "execution_count": 10,
   "metadata": {},
   "outputs": [
    {
     "data": {
      "image/png": "[encoded data removed]",
      "text/plain": [
       "<Figure size 640x480 with 1 Axes>"
      ]
     },
     "metadata": {},
     "output_type": "display_data"
    }
   ],
   "source": [
    "policy_e = gridworld.mdp_forward.get_policy_from_mu(mu_e.value)\n",
    "visualize_policy = np.zeros((n,n))\n",
    "for i in range(n):\n",
    "    for j in range(n):\n",
    "        visualize_policy[i,j] = np.argmax(policy_e[gridworld.grid_to_S[i, j]])\n",
    "\n",
    "plot_policy(grid, visualize_policy, obstacles, goal)"
   ]
  },
  {
   "cell_type": "markdown",
   "metadata": {},
   "source": [
    "### SMD"
   ]
  },
  {
   "cell_type": "markdown",
   "metadata": {},
   "source": [
    "### Exploration"
   ]
  },
  {
   "cell_type": "code",
   "execution_count": 719,
   "metadata": {},
   "outputs": [],
   "source": [
    "def cost_prime(s, a, goal, obstacles):\n",
    "    r = 10\n",
    "    if s[0] in obstacles[0] and s[1] in obstacles[1]:\n",
    "        r = 5\n",
    "    elif s[0] in goal[0] and s[1] in goal[1]:\n",
    "        r = 0\n",
    "    return r"
   ]
  },
  {
   "cell_type": "code",
   "execution_count": 720,
   "metadata": {},
   "outputs": [],
   "source": [
    "gridworld = GridWorld(grid, obstacles, goal, actions, transitions, init_dist, cost, gamma, mu_e.value, cost_prime)\n",
    "gridworld.get_mdp_app(transform=False)\n",
    "gridworld.mdp_app.build_T()"
   ]
  },
  {
   "cell_type": "code",
   "execution_count": 721,
   "metadata": {},
   "outputs": [
    {
     "name": "stdout",
     "output_type": "stream",
     "text": [
      "===============================================================================\n",
      "                                     CVXPY                                     \n",
      "                                     v1.5.3                                    \n",
      "===============================================================================\n",
      "(CVXPY) Sep 03 09:51:13 AM: Your problem has 500 variables, 400 constraints, and 0 parameters.\n",
      "(CVXPY) Sep 03 09:51:13 AM: It is compliant with the following grammars: DCP, DQCP\n",
      "(CVXPY) Sep 03 09:51:13 AM: (If you need to solve this problem multiple times, but with different data, consider using parameters.)\n",
      "(CVXPY) Sep 03 09:51:13 AM: CVXPY will first compile your problem; then, it will invoke a numerical solver to obtain a solution.\n",
      "(CVXPY) Sep 03 09:51:13 AM: Your problem is compiled with the CPP canonicalization backend.\n",
      "-------------------------------------------------------------------------------\n",
      "                                  Compilation                                  \n",
      "-------------------------------------------------------------------------------\n",
      "(CVXPY) Sep 03 09:51:13 AM: Compiling problem (target solver=CLARABEL).\n",
      "(CVXPY) Sep 03 09:51:13 AM: Reduction chain: Dcp2Cone -> CvxAttr2Constr -> ConeMatrixStuffing -> CLARABEL\n",
      "(CVXPY) Sep 03 09:51:13 AM: Applying reduction Dcp2Cone\n",
      "(CVXPY) Sep 03 09:51:13 AM: Applying reduction CvxAttr2Constr\n",
      "(CVXPY) Sep 03 09:51:13 AM: Applying reduction ConeMatrixStuffing\n",
      "(CVXPY) Sep 03 09:51:13 AM: Applying reduction CLARABEL\n",
      "(CVXPY) Sep 03 09:51:13 AM: Finished problem compilation (took 9.560e-03 seconds).\n",
      "-------------------------------------------------------------------------------\n",
      "                                Numerical solver                               \n",
      "-------------------------------------------------------------------------------\n",
      "(CVXPY) Sep 03 09:51:13 AM: Invoking solver CLARABEL  to obtain a solution.\n",
      "-------------------------------------------------------------\n",
      "           Clarabel.rs v0.9.0  -  Clever Acronym                \n",
      "\n",
      "                   (c) Paul Goulart                          \n",
      "                University of Oxford, 2022                   \n",
      "-------------------------------------------------------------\n",
      "\n",
      "problem:\n",
      "  variables     = 900\n",
      "  constraints   = 1200\n",
      "  nnz(P)        = 0\n",
      "  nnz(A)        = 2755\n",
      "  cones (total) = 1\n",
      "    : Nonnegative = 1,  numel = 1200\n",
      "\n",
      "settings:\n",
      "  linear algebra: direct / qdldl, precision: 64 bit\n",
      "  max iter = 200, time limit = Inf,  max step = 0.990\n",
      "  tol_feas = 1.0e-8, tol_gap_abs = 1.0e-8, tol_gap_rel = 1.0e-8,\n",
      "  static reg : on, ϵ1 = 1.0e-8, ϵ2 = 4.9e-32\n",
      "  dynamic reg: on, ϵ = 1.0e-13, δ = 2.0e-7\n",
      "  iter refine: on, reltol = 1.0e-13, abstol = 1.0e-12,\n",
      "               max iter = 10, stop ratio = 5.0\n",
      "  equilibrate: on, min_scale = 1.0e-4, max_scale = 1.0e4\n",
      "               max iter = 10\n",
      "\n",
      "iter    pcost        dcost       gap       pres      dres      k/t        μ       step      \n",
      "---------------------------------------------------------------------------------------------\n",
      "  0  -1.8221e+00  -1.8221e+00  4.10e-12  3.47e-01  1.11e-01  1.00e+00  7.69e+00   ------   \n",
      "  1  +7.1212e+01  +7.2058e+01  1.19e-02  1.48e-01  4.24e-02  1.16e+00  4.08e+00  6.29e-01  \n",
      "  2  +2.4664e+01  +2.5247e+01  2.37e-02  6.19e-02  1.77e-02  7.02e-01  1.93e+00  6.47e-01  \n",
      "  3  +6.2910e+00  +6.3801e+00  1.42e-02  8.25e-03  2.31e-03  1.04e-01  2.99e-01  8.54e-01  \n",
      "  4  +4.1848e+00  +4.1897e+00  1.16e-03  6.41e-04  1.74e-04  6.09e-03  2.64e-02  9.13e-01  \n",
      "  5  +4.2750e+00  +4.2762e+00  2.77e-04  1.66e-04  4.48e-05  1.50e-03  7.08e-03  7.70e-01  \n",
      "  6  +4.3007e+00  +4.3009e+00  4.32e-05  2.65e-05  7.15e-06  2.37e-04  1.14e-03  8.45e-01  \n",
      "  7  +4.3070e+00  +4.3070e+00  1.11e-05  8.35e-06  2.26e-06  6.39e-05  3.60e-04  7.91e-01  \n",
      "  8  +4.3075e+00  +4.3075e+00  2.11e-07  1.60e-07  4.32e-08  1.22e-06  6.91e-06  9.81e-01  \n",
      "  9  +4.3075e+00  +4.3075e+00  2.11e-09  1.60e-09  4.32e-10  1.22e-08  6.91e-08  9.90e-01  \n",
      "---------------------------------------------------------------------------------------------\n",
      "Terminated with status = Solved\n",
      "solve time = 4.9022ms\n",
      "-------------------------------------------------------------------------------\n",
      "                                    Summary                                    \n",
      "-------------------------------------------------------------------------------\n",
      "(CVXPY) Sep 03 09:51:13 AM: Problem status: optimal\n",
      "(CVXPY) Sep 03 09:51:13 AM: Optimal value: 4.308e+00\n",
      "(CVXPY) Sep 03 09:51:13 AM: Compilation took 9.560e-03 seconds\n",
      "(CVXPY) Sep 03 09:51:13 AM: Solver (including time spent in interface) took 1.218e-02 seconds\n"
     ]
    }
   ],
   "source": [
    "solver = SolverApp(gridworld.mdp_app, gridworld.c_hat, gridworld.mdp_app.mu_e)\n",
    "prob, c_exp, u_exp = solver.solve()"
   ]
  },
  {
   "cell_type": "code",
   "execution_count": 722,
   "metadata": {},
   "outputs": [
    {
     "data": {
      "text/plain": [
       "np.float64(4.3075463812290575)"
      ]
     },
     "execution_count": 722,
     "metadata": {},
     "output_type": "execute_result"
    }
   ],
   "source": [
    "(c_exp.value + np.transpose(gridworld.mdp_app.T) @ u_exp.value) @ gridworld.mdp_app.mu_e"
   ]
  },
  {
   "cell_type": "code",
   "execution_count": 723,
   "metadata": {},
   "outputs": [
    {
     "name": "stdout",
     "output_type": "stream",
     "text": [
      "===============================================================================\n",
      "                                     CVXPY                                     \n",
      "                                     v1.5.3                                    \n",
      "===============================================================================\n",
      "(CVXPY) Sep 03 09:51:13 AM: Your problem has 500 variables, 401 constraints, and 0 parameters.\n",
      "(CVXPY) Sep 03 09:51:13 AM: It is compliant with the following grammars: DCP, DQCP\n",
      "(CVXPY) Sep 03 09:51:13 AM: (If you need to solve this problem multiple times, but with different data, consider using parameters.)\n",
      "(CVXPY) Sep 03 09:51:13 AM: CVXPY will first compile your problem; then, it will invoke a numerical solver to obtain a solution.\n",
      "(CVXPY) Sep 03 09:51:13 AM: Your problem is compiled with the CPP canonicalization backend.\n",
      "-------------------------------------------------------------------------------\n",
      "                                  Compilation                                  \n",
      "-------------------------------------------------------------------------------\n",
      "(CVXPY) Sep 03 09:51:13 AM: Compiling problem (target solver=CLARABEL).\n",
      "(CVXPY) Sep 03 09:51:13 AM: Reduction chain: Dcp2Cone -> CvxAttr2Constr -> ConeMatrixStuffing -> CLARABEL\n",
      "(CVXPY) Sep 03 09:51:13 AM: Applying reduction Dcp2Cone\n",
      "(CVXPY) Sep 03 09:51:13 AM: Applying reduction CvxAttr2Constr\n",
      "(CVXPY) Sep 03 09:51:13 AM: Applying reduction ConeMatrixStuffing\n",
      "(CVXPY) Sep 03 09:51:13 AM: Applying reduction CLARABEL\n",
      "(CVXPY) Sep 03 09:51:13 AM: Finished problem compilation (took 2.197e-02 seconds).\n",
      "-------------------------------------------------------------------------------\n",
      "                                Numerical solver                               \n",
      "-------------------------------------------------------------------------------\n",
      "(CVXPY) Sep 03 09:51:13 AM: Invoking solver CLARABEL  to obtain a solution.\n",
      "-------------------------------------------------------------\n",
      "           Clarabel.rs v0.9.0  -  Clever Acronym                \n",
      "\n",
      "                   (c) Paul Goulart                          \n",
      "                University of Oxford, 2022                   \n",
      "-------------------------------------------------------------\n",
      "\n",
      "problem:\n",
      "  variables     = 1300\n",
      "  constraints   = 2001\n",
      "  nnz(P)        = 0\n",
      "  nnz(A)        = 4755\n",
      "  cones (total) = 1\n",
      "    : Nonnegative = 1,  numel = 2001\n",
      "\n",
      "settings:\n",
      "  linear algebra: direct / qdldl, precision: 64 bit\n",
      "  max iter = 200, time limit = Inf,  max step = 0.990\n",
      "  tol_feas = 1.0e-8, tol_gap_abs = 1.0e-8, tol_gap_rel = 1.0e-8,\n",
      "  static reg : on, ϵ1 = 1.0e-8, ϵ2 = 4.9e-32\n",
      "  dynamic reg: on, ϵ = 1.0e-13, δ = 2.0e-7\n",
      "  iter refine: on, reltol = 1.0e-13, abstol = 1.0e-12,\n",
      "               max iter = 10, stop ratio = 5.0\n",
      "  equilibrate: on, min_scale = 1.0e-4, max_scale = 1.0e4\n",
      "               max iter = 10\n",
      "\n",
      "iter    pcost        dcost       gap       pres      dres      k/t        μ       step      \n",
      "---------------------------------------------------------------------------------------------\n",
      "  0  -2.1866e+00  -1.9706e+02  8.91e+01  3.47e-01  1.21e-01  1.00e+00  8.40e+00   ------   \n",
      "  1  -1.0087e+00  -6.2600e+01  6.11e+01  1.53e-01  4.82e-02  1.38e+00  4.84e+00  6.14e-01  \n",
      "  2  -2.8698e+01  -4.3343e+01  5.10e-01  4.17e-02  1.29e-02  7.79e-01  1.87e+00  7.54e-01  \n",
      "  3  -4.8132e+00  -6.9465e+00  4.43e-01  6.17e-03  1.87e-03  1.12e-01  3.60e-01  8.53e-01  \n",
      "  4  +3.6755e+00  +3.5140e+00  4.60e-02  4.59e-04  1.36e-04  7.47e-03  3.02e-02  9.19e-01  \n",
      "  5  +4.2074e+00  +4.1837e+00  5.65e-03  6.66e-05  1.96e-05  9.87e-04  4.47e-03  8.70e-01  \n",
      "  6  +4.2805e+00  +4.2742e+00  1.46e-03  1.75e-05  5.14e-06  2.30e-04  1.17e-03  7.77e-01  \n",
      "  7  +4.3051e+00  +4.3045e+00  1.30e-04  1.54e-06  4.53e-07  1.17e-05  1.04e-04  9.64e-01  \n",
      "  8  +4.3075e+00  +4.3075e+00  1.31e-06  1.56e-08  4.59e-09  1.19e-07  1.05e-06  9.90e-01  \n",
      "  9  +4.3075e+00  +4.3075e+00  1.31e-08  1.56e-10  4.59e-11  1.19e-09  1.05e-08  9.90e-01  \n",
      " 10  +4.3075e+00  +4.3075e+00  1.31e-10  1.56e-12  4.59e-13  1.19e-11  1.05e-10  9.90e-01  \n",
      "---------------------------------------------------------------------------------------------\n",
      "Terminated with status = Solved\n",
      "solve time = 8.426ms\n",
      "-------------------------------------------------------------------------------\n",
      "                                    Summary                                    \n",
      "-------------------------------------------------------------------------------\n",
      "(CVXPY) Sep 03 09:51:13 AM: Problem status: optimal\n",
      "(CVXPY) Sep 03 09:51:13 AM: Optimal value: 4.308e+00\n",
      "(CVXPY) Sep 03 09:51:13 AM: Compilation took 2.197e-02 seconds\n",
      "(CVXPY) Sep 03 09:51:13 AM: Solver (including time spent in interface) took 1.031e-02 seconds\n"
     ]
    }
   ],
   "source": [
    "solver = SolverApp(gridworld.mdp_app, gridworld.c_hat, gridworld.mdp_app.mu_e)\n",
    "prob, c_exp2, u_exp2 = solver.solve_constraint(np.linalg.norm(gridworld.c_hat))"
   ]
  },
  {
   "cell_type": "code",
   "execution_count": 724,
   "metadata": {},
   "outputs": [],
   "source": [
    "c_reconstructed = np.zeros((n, n, len(actions)))\n",
    "for i in range(len(c_exp.value)):    \n",
    "    c_reconstructed[gridworld.S_to_grid[i % n**2][0], \n",
    "                    gridworld.S_to_grid[i % n**2][1], \n",
    "                    int(i / n**2)\n",
    "                    ] = c_exp.value[i]"
   ]
  },
  {
   "cell_type": "code",
   "execution_count": 725,
   "metadata": {},
   "outputs": [
    {
     "name": "stdout",
     "output_type": "stream",
     "text": [
      "UP\n"
     ]
    },
    {
     "data": {
      "image/png": "[encoded data removed]",
      "text/plain": [
       "<Figure size 480x480 with 1 Axes>"
      ]
     },
     "metadata": {},
     "output_type": "display_data"
    },
    {
     "name": "stdout",
     "output_type": "stream",
     "text": [
      "DOWN\n"
     ]
    },
    {
     "data": {
      "image/png": "[encoded data removed]",
      "text/plain": [
       "<Figure size 480x480 with 1 Axes>"
      ]
     },
     "metadata": {},
     "output_type": "display_data"
    },
    {
     "name": "stdout",
     "output_type": "stream",
     "text": [
      "LEFT\n"
     ]
    },
    {
     "data": {
      "image/png": "[encoded data removed]",
      "text/plain": [
       "<Figure size 480x480 with 1 Axes>"
      ]
     },
     "metadata": {},
     "output_type": "display_data"
    },
    {
     "name": "stdout",
     "output_type": "stream",
     "text": [
      "RIGHT\n"
     ]
    },
    {
     "data": {
      "image/png": "[encoded data removed]",
      "text/plain": [
       "<Figure size 480x480 with 1 Axes>"
      ]
     },
     "metadata": {},
     "output_type": "display_data"
    }
   ],
   "source": [
    "print(\"UP\")\n",
    "plot_cost_function(c_reconstructed[:, :, 0])\n",
    "print(\"DOWN\")\n",
    "plot_cost_function(c_reconstructed[:, :, 1])\n",
    "print(\"LEFT\")\n",
    "plot_cost_function(c_reconstructed[:, :, 2])\n",
    "print(\"RIGHT\")\n",
    "plot_cost_function(c_reconstructed[:, :, 3])"
   ]
  },
  {
   "cell_type": "code",
   "execution_count": 726,
   "metadata": {},
   "outputs": [
    {
     "name": "stdout",
     "output_type": "stream",
     "text": [
      "|| c_exp - c_true || =  5656825.9677985525\n",
      "|| c_exp - c_hat || =  1.1298790311207859e-08\n",
      "|| u_exp - u_true || =  2828385.9689220935\n"
     ]
    }
   ],
   "source": [
    "print(\"|| c_exp - c_true || = \", np.linalg.norm(c_exp.value - gridworld.c))\n",
    "print(\"|| c_exp - c_hat || = \", np.linalg.norm(c_exp.value - gridworld.c_hat))\n",
    "print(\"|| u_exp - u_true || = \", np.linalg.norm(u_exp.value - u_true))"
   ]
  },
  {
   "cell_type": "markdown",
   "metadata": {},
   "source": [
    "### Inverse Optimization for Cost Function"
   ]
  },
  {
   "cell_type": "code",
   "execution_count": 727,
   "metadata": {},
   "outputs": [],
   "source": [
    "gridworld = GridWorld(grid, obstacles, goal, actions, transitions, init_dist, cost, gamma, mu_e.value, cost_prime)\n",
    "gridworld.get_mdp_IRL(transform=False)\n",
    "gridworld.mdp_IRL.build_T()"
   ]
  },
  {
   "cell_type": "code",
   "execution_count": 728,
   "metadata": {},
   "outputs": [
    {
     "name": "stdout",
     "output_type": "stream",
     "text": [
      "===============================================================================\n",
      "                                     CVXPY                                     \n",
      "                                     v1.5.3                                    \n",
      "===============================================================================\n",
      "(CVXPY) Sep 03 09:51:14 AM: Your problem has 500 variables, 401 constraints, and 0 parameters.\n",
      "(CVXPY) Sep 03 09:51:14 AM: It is compliant with the following grammars: DCP, DQCP\n",
      "(CVXPY) Sep 03 09:51:14 AM: (If you need to solve this problem multiple times, but with different data, consider using parameters.)\n",
      "(CVXPY) Sep 03 09:51:14 AM: CVXPY will first compile your problem; then, it will invoke a numerical solver to obtain a solution.\n",
      "(CVXPY) Sep 03 09:51:14 AM: Your problem is compiled with the CPP canonicalization backend.\n",
      "-------------------------------------------------------------------------------\n",
      "                                  Compilation                                  \n",
      "-------------------------------------------------------------------------------\n",
      "(CVXPY) Sep 03 09:51:14 AM: Compiling problem (target solver=CLARABEL).\n",
      "(CVXPY) Sep 03 09:51:14 AM: Reduction chain: Dcp2Cone -> CvxAttr2Constr -> ConeMatrixStuffing -> CLARABEL\n",
      "(CVXPY) Sep 03 09:51:14 AM: Applying reduction Dcp2Cone\n",
      "(CVXPY) Sep 03 09:51:14 AM: Applying reduction CvxAttr2Constr\n",
      "(CVXPY) Sep 03 09:51:14 AM: Applying reduction ConeMatrixStuffing\n",
      "(CVXPY) Sep 03 09:51:14 AM: Applying reduction CLARABEL\n",
      "(CVXPY) Sep 03 09:51:14 AM: Finished problem compilation (took 1.135e-02 seconds).\n",
      "-------------------------------------------------------------------------------\n",
      "                                Numerical solver                               \n",
      "-------------------------------------------------------------------------------\n",
      "(CVXPY) Sep 03 09:51:14 AM: Invoking solver CLARABEL  to obtain a solution.\n",
      "-------------------------------------------------------------\n",
      "           Clarabel.rs v0.9.0  -  Clever Acronym                \n",
      "\n",
      "                   (c) Paul Goulart                          \n",
      "                University of Oxford, 2022                   \n",
      "-------------------------------------------------------------\n",
      "\n",
      "problem:\n",
      "  variables     = 900\n",
      "  constraints   = 1201\n",
      "  nnz(P)        = 0\n",
      "  nnz(A)        = 3255\n",
      "  cones (total) = 2\n",
      "    :        Zero = 1,  numel = 1\n",
      "    : Nonnegative = 1,  numel = 1200\n",
      "\n",
      "settings:\n",
      "  linear algebra: direct / qdldl, precision: 64 bit\n",
      "  max iter = 200, time limit = Inf,  max step = 0.990\n",
      "  tol_feas = 1.0e-8, tol_gap_abs = 1.0e-8, tol_gap_rel = 1.0e-8,\n",
      "  static reg : on, ϵ1 = 1.0e-8, ϵ2 = 4.9e-32\n",
      "  dynamic reg: on, ϵ = 1.0e-13, δ = 2.0e-7\n",
      "  iter refine: on, reltol = 1.0e-13, abstol = 1.0e-12,\n",
      "               max iter = 10, stop ratio = 5.0\n",
      "  equilibrate: on, min_scale = 1.0e-4, max_scale = 1.0e4\n",
      "               max iter = 10\n",
      "\n",
      "iter    pcost        dcost       gap       pres      dres      k/t        μ       step      \n",
      "---------------------------------------------------------------------------------------------\n",
      "  0  +0.0000e+00  -0.0000e+00  0.00e+00  3.34e-01  1.14e-01  1.00e+00  7.26e+00   ------   \n",
      "  1  +7.8923e+01  +8.0543e+01  2.05e-02  1.94e-01  5.93e-02  2.10e+00  4.87e+00  6.54e-01  \n",
      "  2  +8.4564e+01  +8.6226e+01  1.97e-02  1.16e-01  3.37e-02  1.93e+00  3.28e+00  4.45e-01  \n",
      "  3  +7.8755e+01  +7.9574e+01  1.04e-02  4.29e-02  1.20e-02  9.13e-01  1.44e+00  6.18e-01  \n",
      "  4  +8.2057e+01  +8.2449e+01  4.78e-03  2.20e-02  6.11e-03  4.40e-01  7.68e-01  5.72e-01  \n",
      "  5  +8.2871e+01  +8.3049e+01  2.15e-03  1.09e-02  3.01e-03  2.02e-01  3.90e-01  5.74e-01  \n",
      "  6  +8.3354e+01  +8.3421e+01  7.99e-04  4.31e-03  1.19e-03  7.62e-02  1.56e-01  6.48e-01  \n",
      "  7  +8.3552e+01  +8.3606e+01  6.46e-04  3.70e-03  1.02e-03  6.22e-02  1.33e-01  2.23e-01  \n",
      "  8  +8.4110e+01  +8.4146e+01  4.35e-04  2.75e-03  7.52e-04  4.27e-02  9.38e-02  4.42e-01  \n",
      "  9  +8.4275e+01  +8.4297e+01  2.52e-04  2.10e-03  5.74e-04  2.60e-02  7.01e-02  5.51e-01  \n",
      " 10  +8.5060e+01  +8.5072e+01  1.43e-04  1.45e-03  3.84e-04  1.54e-02  4.20e-02  7.88e-01  \n",
      " 11  +8.6092e+01  +8.6104e+01  1.42e-04  1.27e-03  3.23e-04  1.50e-02  3.09e-02  3.66e-01  \n",
      " 12  +8.6864e+01  +8.6877e+01  1.43e-04  1.28e-03  3.15e-04  1.52e-02  2.76e-02  3.56e-01  \n",
      " 13  +8.9159e+01  +8.9173e+01  1.59e-04  1.14e-03  2.54e-04  1.67e-02  1.85e-02  3.81e-01  \n",
      " 14  +9.0369e+01  +9.0382e+01  1.47e-04  1.00e-03  2.11e-04  1.56e-02  1.40e-02  4.49e-01  \n",
      " 15  +9.3455e+01  +9.3471e+01  1.69e-04  8.92e-04  1.63e-04  1.77e-02  9.06e-03  6.04e-01  \n",
      " 16  +9.7762e+01  +9.7782e+01  2.03e-04  8.05e-04  1.24e-04  2.17e-02  5.82e-03  5.23e-01  \n",
      " 17  +1.0194e+02  +1.0196e+02  2.10e-04  6.73e-04  8.92e-05  2.29e-02  3.80e-03  5.06e-01  \n",
      " 18  +1.0366e+02  +1.0369e+02  2.32e-04  6.33e-04  7.55e-05  2.55e-02  3.03e-03  4.68e-01  \n",
      " 19  +1.1907e+02  +1.1911e+02  3.20e-04  5.23e-04  3.97e-05  3.92e-02  1.35e-03  6.38e-01  \n",
      " 20  +1.2415e+02  +1.2419e+02  3.23e-04  4.71e-04  3.17e-05  4.12e-02  1.04e-03  3.71e-01  \n",
      " 21  +1.3689e+02  +1.3694e+02  3.44e-04  3.65e-04  1.84e-05  4.79e-02  5.69e-04  8.09e-01  \n",
      " 22  +1.5328e+02  +1.5333e+02  3.53e-04  2.96e-04  1.07e-05  5.47e-02  3.18e-04  5.30e-01  \n",
      " 23  +1.5300e+02  +1.5305e+02  3.29e-04  2.78e-04  1.01e-05  5.10e-02  2.99e-04  1.60e-01  \n",
      " 24  +1.5287e+02  +1.5292e+02  3.31e-04  2.68e-04  9.61e-06  5.12e-02  2.85e-04  3.54e-01  \n",
      " 25  +1.5858e+02  +1.5863e+02  2.76e-04  2.10e-04  6.62e-06  4.42e-02  1.94e-04  4.13e-01  \n",
      " 26  +1.5954e+02  +1.5958e+02  2.48e-04  1.90e-04  6.03e-06  4.00e-02  1.76e-04  2.61e-01  \n",
      " 27  +1.6231e+02  +1.6235e+02  2.62e-04  1.88e-04  5.57e-06  4.29e-02  1.62e-04  2.31e-01  \n",
      " 28  +1.6520e+02  +1.6524e+02  2.00e-04  1.39e-04  3.93e-06  3.34e-02  1.14e-04  5.28e-01  \n",
      " 29  +1.6802e+02  +1.6805e+02  1.50e-04  9.77e-05  2.79e-06  2.54e-02  8.09e-05  7.50e-01  \n",
      " 30  +1.7316e+02  +1.7317e+02  5.99e-05  3.65e-05  9.84e-07  1.05e-02  2.83e-05  7.16e-01  \n",
      " 31  +1.7429e+02  +1.7430e+02  4.50e-05  2.36e-05  6.36e-07  7.90e-03  1.83e-05  6.64e-01  \n",
      " 32  +1.7530e+02  +1.7530e+02  7.69e-07  4.35e-07  1.18e-08  1.36e-04  3.39e-07  9.85e-01  \n",
      " 33  +1.7533e+02  +1.7533e+02  7.69e-09  4.35e-09  1.18e-10  1.36e-06  3.40e-09  9.90e-01  \n",
      "---------------------------------------------------------------------------------------------\n",
      "Terminated with status = Solved\n",
      "solve time = 13.8404ms\n",
      "-------------------------------------------------------------------------------\n",
      "                                    Summary                                    \n",
      "-------------------------------------------------------------------------------\n",
      "(CVXPY) Sep 03 09:51:14 AM: Problem status: optimal\n",
      "(CVXPY) Sep 03 09:51:14 AM: Optimal value: 1.753e+02\n",
      "(CVXPY) Sep 03 09:51:14 AM: Compilation took 1.135e-02 seconds\n",
      "(CVXPY) Sep 03 09:51:14 AM: Solver (including time spent in interface) took 4.875e-03 seconds\n"
     ]
    }
   ],
   "source": [
    "solver = SolverIRL(gridworld.mdp_IRL, gridworld.c_hat, gridworld.mdp_IRL.mu_e)\n",
    "prob, c_IRL, u_IRL = solver.solve()"
   ]
  },
  {
   "cell_type": "code",
   "execution_count": 729,
   "metadata": {},
   "outputs": [],
   "source": [
    "c_reconstructed = np.zeros((n, n, len(actions)))\n",
    "for i in range(len(c_IRL.value)):    \n",
    "    c_reconstructed[gridworld.S_to_grid[i % n**2][0], \n",
    "                    gridworld.S_to_grid[i % n**2][1], \n",
    "                    int(i / n**2)\n",
    "                    ] = c_IRL.value[i]\n",
    "u_reconstructed = np.zeros((n, n))\n",
    "for i in range(len(u_IRL.value)):\n",
    "    u_reconstructed[gridworld.S_to_grid[i][0], gridworld.S_to_grid[i][1]] = u_IRL.value[i]"
   ]
  },
  {
   "cell_type": "code",
   "execution_count": 730,
   "metadata": {},
   "outputs": [
    {
     "name": "stdout",
     "output_type": "stream",
     "text": [
      "UP\n"
     ]
    },
    {
     "data": {
      "image/png": "[encoded data removed]",
      "text/plain": [
       "<Figure size 480x480 with 1 Axes>"
      ]
     },
     "metadata": {},
     "output_type": "display_data"
    },
    {
     "name": "stdout",
     "output_type": "stream",
     "text": [
      "DOWN\n"
     ]
    },
    {
     "data": {
      "image/png": "[encoded data removed]",
      "text/plain": [
       "<Figure size 480x480 with 1 Axes>"
      ]
     },
     "metadata": {},
     "output_type": "display_data"
    },
    {
     "name": "stdout",
     "output_type": "stream",
     "text": [
      "LEFT\n"
     ]
    },
    {
     "data": {
      "image/png": "[encoded data removed]",
      "text/plain": [
       "<Figure size 480x480 with 1 Axes>"
      ]
     },
     "metadata": {},
     "output_type": "display_data"
    },
    {
     "name": "stdout",
     "output_type": "stream",
     "text": [
      "RIGHT\n"
     ]
    },
    {
     "data": {
      "image/png": "[encoded data removed]",
      "text/plain": [
       "<Figure size 480x480 with 1 Axes>"
      ]
     },
     "metadata": {},
     "output_type": "display_data"
    }
   ],
   "source": [
    "print(\"UP\")\n",
    "plot_cost_function(c_reconstructed[:, :, 0])\n",
    "print(\"DOWN\")\n",
    "plot_cost_function(c_reconstructed[:, :, 1])\n",
    "print(\"LEFT\")\n",
    "plot_cost_function(c_reconstructed[:, :, 2])\n",
    "print(\"RIGHT\")\n",
    "plot_cost_function(c_reconstructed[:, :, 3])"
   ]
  },
  {
   "cell_type": "code",
   "execution_count": 731,
   "metadata": {},
   "outputs": [
    {
     "name": "stdout",
     "output_type": "stream",
     "text": [
      "App problem\n",
      "|| c_exp - c_true || =  5656825.9677985525\n",
      "|| c_exp - c_hat || =  1.1298790311207859e-08\n",
      "|| u_exp - u_true || =  2828385.9689220935\n",
      " \n",
      "IRL problem\n",
      "|| c_IRL - c_true || =  5656816.6872468125\n",
      "|| c_IRL - c_hat || =  36.55675819904047\n",
      "|| u_IRL - u_true || =  2828352.977323109\n",
      " \n",
      "Comparison with the app problem\n",
      "|| c_IRL - c_exp || =  36.5567582047373\n",
      "|| u_IRL - u_exp || =  99.73681108435633\n",
      " \n",
      "Modified app problem\n",
      "|| c_exp2 - c_true || =  5656825.96779855\n",
      "|| c_exp2 - c_hat || =  5.05987787155325e-12\n",
      "|| u_exp2 - u_true || =  2828385.968921279\n",
      " \n"
     ]
    }
   ],
   "source": [
    "print(\"App problem\")\n",
    "print(\"|| c_exp - c_true || = \", np.linalg.norm(c_exp.value - gridworld.c))\n",
    "print(\"|| c_exp - c_hat || = \", np.linalg.norm(c_exp.value - gridworld.c_hat))\n",
    "print(\"|| u_exp - u_true || = \", np.linalg.norm(u_exp.value - u_true))\n",
    "print(\" \")\n",
    "\n",
    "print(\"IRL problem\")\n",
    "print(\"|| c_IRL - c_true || = \", np.linalg.norm(c_IRL.value - gridworld.c))\n",
    "print(\"|| c_IRL - c_hat || = \", np.linalg.norm(c_IRL.value - gridworld.c_hat))\n",
    "print(\"|| u_IRL - u_true || = \", np.linalg.norm(u_IRL.value - u_true))\n",
    "print(\" \")\n",
    "## Compare with the app problem ###\n",
    "print(\"Comparison with the app problem\")\n",
    "print(\"|| c_IRL - c_exp || = \", np.linalg.norm(c_IRL.value - c_exp.value))\n",
    "print(\"|| u_IRL - u_exp || = \", np.linalg.norm(u_IRL.value - u_exp.value))\n",
    "print(\" \")\n",
    "\n",
    "print(\"Modified app problem\")\n",
    "print(\"|| c_exp2 - c_true || = \", np.linalg.norm(c_exp2.value - gridworld.c))\n",
    "print(\"|| c_exp2 - c_hat || = \", np.linalg.norm(c_exp2.value - gridworld.c_hat))\n",
    "print(\"|| u_exp2 - u_true || = \", np.linalg.norm(u_exp2.value - u_true))\n",
    "print(\" \")\n",
    "\n"
   ]
  }
 ],
 "metadata": {
  "kernelspec": {
   "display_name": "venv",
   "language": "python",
   "name": "python3"
  },
  "language_info": {
   "codemirror_mode": {
    "name": "ipython",
    "version": 3
   },
   "file_extension": ".py",
   "mimetype": "text/x-python",
   "name": "python",
   "nbconvert_exporter": "python",
   "pygments_lexer": "ipython3",
   "version": "3.10.11"
  }
 },
 "nbformat": 4,
 "nbformat_minor": 2
}
