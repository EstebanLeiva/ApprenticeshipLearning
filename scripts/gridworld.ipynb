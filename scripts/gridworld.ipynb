{
 "cells": [
  {
   "cell_type": "code",
   "execution_count": 82,
   "metadata": {},
   "outputs": [],
   "source": [
    "import numpy as np\n",
    "from apprenticheshiplearning.utils.gridworld import plot_gridworld, plot_cost_function, plot_occupation\n",
    "from apprenticheshiplearning.problems.gridworld import GridWorld\n",
    "from apprenticheshiplearning.classes.solver import Solver"
   ]
  },
  {
   "cell_type": "markdown",
   "metadata": {},
   "source": [
    "### Setting"
   ]
  },
  {
   "cell_type": "code",
   "execution_count": 83,
   "metadata": {},
   "outputs": [],
   "source": [
    "# Parameters\n",
    "n = 10\n",
    "wind_intensity = 0.3 # between 0 and 1\n",
    "gamma = 0.9"
   ]
  },
  {
   "cell_type": "code",
   "execution_count": 84,
   "metadata": {},
   "outputs": [],
   "source": [
    "grid = np.zeros((n, n))\n",
    "goal = [                    \n",
    "        [n-1, n-2], \n",
    "        [n-1]\n",
    "        ]\n",
    "obstacles = [\n",
    "                [int(n/2)],\n",
    "                [i for  i in range(0,int(n/1.2))]\n",
    "            ]\n",
    "actions = [\"up\", \"down\", \"left\", \"right\"]\n",
    "init_dist = np.ones((n,n)) / n**2\n"
   ]
  },
  {
   "cell_type": "code",
   "execution_count": 85,
   "metadata": {},
   "outputs": [
    {
     "data": {
      "image/png": "[encoded data removed]",
      "text/plain": [
       "<Figure size 640x480 with 1 Axes>"
      ]
     },
     "metadata": {},
     "output_type": "display_data"
    }
   ],
   "source": [
    "plot_gridworld(grid, obstacles, goal)"
   ]
  },
  {
   "cell_type": "code",
   "execution_count": 86,
   "metadata": {},
   "outputs": [],
   "source": [
    "def transitions(s1, s , a, goal): #go from s to s1 with action a\n",
    "    if a == \"up\":\n",
    "        if s[0] in goal[0] and s[1] in goal[1]:\n",
    "            if s1[0] == s[0] and s1[1] == s[0]:\n",
    "                return 1\n",
    "            else: \n",
    "                return 0\n",
    "        elif s[0] != 0 and s[1] == n - 1:\n",
    "            if s1[0] == s[0] and s1[1] == s[1]:\n",
    "                return 1 - wind_intensity\n",
    "            elif s1[0] == s[0] - 1 and s1[1] == s[1]:\n",
    "                return wind_intensity\n",
    "            else:\n",
    "                return 0\n",
    "        elif s[0] == 0 and s[1] == n - 1:\n",
    "            if s1[0] == s[0] and s1[1] == s[1]:\n",
    "                return 1\n",
    "            else:\n",
    "                return 0\n",
    "        elif s[0] == 0 and s[1] < n - 1:\n",
    "            if s1[0] == s[0] and s1[1] == s[1] + 1:\n",
    "                return 1\n",
    "            else:\n",
    "                return 0\n",
    "        else:\n",
    "            if s1[0] == s[0] and s1[1] == s[1] + 1:\n",
    "                return 1 - wind_intensity\n",
    "            elif s1[0] == s[0] - 1 and s1[1] == s[1] + 1:\n",
    "                return wind_intensity\n",
    "            else:\n",
    "                return 0\n",
    "            \n",
    "    if a == \"down\":\n",
    "        if s[0] in goal[0] and s[1] in goal[1]:\n",
    "            if s1[0] == s[0] and s1[1] == s[0]:\n",
    "                return 1\n",
    "            else: \n",
    "                return 0\n",
    "        elif s[0] != 0 and s[1] == 0:\n",
    "            if s1[0] == s[0] and s1[1] == s[1]:\n",
    "                return 1 - wind_intensity\n",
    "            elif s1[0] == s[0] - 1 and s1[1] == s[1]:\n",
    "                return wind_intensity\n",
    "            else:\n",
    "                return 0\n",
    "        elif s[0] == 0 and s[1] == 0:\n",
    "            if s1[0] == s[0] and s1[1] == s[1]:\n",
    "                return 1\n",
    "            else:\n",
    "                return 0\n",
    "        elif s[0] == 0 and s[1] > 0:\n",
    "            if s1[0] == s[0] and s1[1] == s[1] - 1:\n",
    "                return 1\n",
    "            else:\n",
    "                return 0\n",
    "        else:\n",
    "            if s1[0] == s[0] and s1[1] == s[1] - 1:\n",
    "                return 1 - wind_intensity\n",
    "            elif s1[0] == s[0] - 1 and s1[1] == s[1] - 1:\n",
    "                return wind_intensity\n",
    "            else:\n",
    "                return 0\n",
    "\n",
    "    if a == \"left\":\n",
    "        if s[0] in goal[0] and s[1] in goal[1]:\n",
    "            if s1[0] == s[0] and s1[1] == s[0]:\n",
    "                return 1\n",
    "            else: \n",
    "                return 0\n",
    "        elif s[0] == 0:\n",
    "            if s1[0] == s[0] and s1[1] == s[1]:\n",
    "                return 1\n",
    "            else:\n",
    "                return 0\n",
    "        elif s[0] == 1:\n",
    "            if s1[0] == s[0] - 1 and s1[1] == s[1]:\n",
    "                return 1\n",
    "            else:\n",
    "                return 0\n",
    "        else:\n",
    "            if s1[0] == s[0] - 1 and s1[1] == s[1]:\n",
    "                return 1 - wind_intensity\n",
    "            elif s1[0] == s[0] - 2 and s1[1] == s[1]:\n",
    "                return wind_intensity\n",
    "            else:\n",
    "                return 0\n",
    "\n",
    "    if a == \"right\":\n",
    "        if s[0] in goal[0] and s[1] in goal[1]:\n",
    "            if s1[0] == s[0] and s1[1] == s[0]:\n",
    "                return 1\n",
    "            else: \n",
    "                return 0\n",
    "        elif s[0] == n - 1:\n",
    "            if s1[0] == s[0] and s1[1] == s[1]:\n",
    "                return 1\n",
    "            else:\n",
    "                return 0\n",
    "        else:\n",
    "            if s1[0] == s[0] + 1 and s1[1] == s[1]:\n",
    "                return 1 - wind_intensity\n",
    "            elif s1[0] == s[0] and s1[1] == s[1]:\n",
    "                return wind_intensity\n",
    "            else:\n",
    "                return 0\n",
    "\n",
    "def cost(s, a, goal, obstacles):\n",
    "    r = 1\n",
    "    if s[0] in obstacles[0] and s[1] in obstacles[1]:\n",
    "        r = 10\n",
    "    elif s[0] in goal[0] and s[1] in goal[1]:\n",
    "        r = 0\n",
    "    return r"
   ]
  },
  {
   "cell_type": "code",
   "execution_count": 87,
   "metadata": {},
   "outputs": [
    {
     "name": "stdout",
     "output_type": "stream",
     "text": [
      "===============================================================================\n",
      "                                     CVXPY                                     \n",
      "                                     v1.5.3                                    \n",
      "===============================================================================\n",
      "(CVXPY) Aug 30 04:36:56 AM: Your problem has 400 variables, 500 constraints, and 0 parameters.\n",
      "(CVXPY) Aug 30 04:36:56 AM: It is compliant with the following grammars: DCP, DQCP\n",
      "(CVXPY) Aug 30 04:36:56 AM: (If you need to solve this problem multiple times, but with different data, consider using parameters.)\n",
      "(CVXPY) Aug 30 04:36:56 AM: CVXPY will first compile your problem; then, it will invoke a numerical solver to obtain a solution.\n",
      "(CVXPY) Aug 30 04:36:56 AM: Your problem is compiled with the CPP canonicalization backend.\n",
      "-------------------------------------------------------------------------------\n",
      "                                  Compilation                                  \n",
      "-------------------------------------------------------------------------------\n",
      "(CVXPY) Aug 30 04:36:56 AM: Compiling problem (target solver=CLARABEL).\n",
      "(CVXPY) Aug 30 04:36:56 AM: Reduction chain: Dcp2Cone -> CvxAttr2Constr -> ConeMatrixStuffing -> CLARABEL\n",
      "(CVXPY) Aug 30 04:36:56 AM: Applying reduction Dcp2Cone\n",
      "(CVXPY) Aug 30 04:36:56 AM: Applying reduction CvxAttr2Constr\n",
      "(CVXPY) Aug 30 04:36:56 AM: Applying reduction ConeMatrixStuffing\n",
      "(CVXPY) Aug 30 04:36:56 AM: Applying reduction CLARABEL\n",
      "(CVXPY) Aug 30 04:36:56 AM: Finished problem compilation (took 9.510e-03 seconds).\n",
      "-------------------------------------------------------------------------------\n",
      "                                Numerical solver                               \n",
      "-------------------------------------------------------------------------------\n",
      "(CVXPY) Aug 30 04:36:56 AM: Invoking solver CLARABEL  to obtain a solution.\n",
      "-------------------------------------------------------------\n",
      "           Clarabel.rs v0.9.0  -  Clever Acronym                \n",
      "\n",
      "                   (c) Paul Goulart                          \n",
      "                University of Oxford, 2022                   \n",
      "-------------------------------------------------------------\n",
      "\n",
      "problem:\n",
      "  variables     = 400\n",
      "  constraints   = 500\n",
      "  nnz(P)        = 0\n",
      "  nnz(A)        = 900\n",
      "  cones (total) = 2\n",
      "    :        Zero = 1,  numel = 100\n",
      "    : Nonnegative = 1,  numel = 400\n",
      "\n",
      "settings:\n",
      "  linear algebra: direct / qdldl, precision: 64 bit\n",
      "  max iter = 200, time limit = Inf,  max step = 0.990\n",
      "  tol_feas = 1.0e-8, tol_gap_abs = 1.0e-8, tol_gap_rel = 1.0e-8,\n",
      "  static reg : on, ϵ1 = 1.0e-8, ϵ2 = 4.9e-32\n",
      "  dynamic reg: on, ϵ = 1.0e-13, δ = 2.0e-7\n",
      "  iter refine: on, reltol = 1.0e-13, abstol = 1.0e-12,\n",
      "               max iter = 10, stop ratio = 5.0\n",
      "  equilibrate: on, min_scale = 1.0e-4, max_scale = 1.0e4\n",
      "               max iter = 10\n",
      "\n",
      "iter    pcost        dcost       gap       pres      dres      k/t        μ       step      \n",
      "---------------------------------------------------------------------------------------------\n",
      "  0  -4.5787e-02  -4.5787e-02  3.43e-15  9.94e-01  6.45e-01  1.00e+00  2.70e+00   ------   \n",
      "  1  +1.6109e-01  +1.4554e-01  1.56e-02  2.12e-01  1.64e-02  9.64e-03  7.05e-02  9.74e-01  \n",
      "  2  +1.4101e+00  +1.4073e+00  1.97e-03  1.27e-01  4.74e-03  5.33e-03  1.91e-02  7.39e-01  \n",
      "  3  +5.7496e+00  +5.7581e+00  1.47e-03  3.10e-02  1.65e-03  1.52e-02  5.27e-03  7.76e-01  \n",
      "  4  +9.9733e+00  +9.9780e+00  4.68e-04  1.69e-03  1.69e-04  5.39e-03  6.44e-04  9.90e-01  \n",
      "  5  +1.0690e+01  +1.0690e+01  4.22e-06  1.90e-05  1.97e-06  5.37e-05  7.71e-06  9.88e-01  \n",
      "  6  +1.0700e+01  +1.0700e+01  4.21e-08  1.90e-07  1.97e-08  5.37e-07  7.71e-08  9.90e-01  \n",
      "  7  +1.0700e+01  +1.0700e+01  4.21e-10  1.90e-09  1.97e-10  5.37e-09  7.71e-10  9.90e-01  \n",
      "---------------------------------------------------------------------------------------------\n",
      "Terminated with status = Solved\n",
      "solve time = 1.2203ms\n",
      "-------------------------------------------------------------------------------\n",
      "                                    Summary                                    \n",
      "-------------------------------------------------------------------------------\n",
      "(CVXPY) Aug 30 04:36:56 AM: Problem status: optimal\n",
      "(CVXPY) Aug 30 04:36:56 AM: Optimal value: 1.070e+01\n",
      "(CVXPY) Aug 30 04:36:56 AM: Compilation took 9.510e-03 seconds\n",
      "(CVXPY) Aug 30 04:36:56 AM: Solver (including time spent in interface) took 2.506e-03 seconds\n"
     ]
    }
   ],
   "source": [
    "gridworld = GridWorld(grid, obstacles, goal, actions, transitions, init_dist, cost, gamma, None, cost)\n",
    "gridworld.get_mdp_forward()\n",
    "gridworld.mdp_forward.build_T()\n",
    "solver_expert = Solver(gridworld.mdp_forward, None, None)\n",
    "prob, expert_occupancy_measure = solver_expert.solve_mdp_forward()"
   ]
  },
  {
   "cell_type": "code",
   "execution_count": 88,
   "metadata": {},
   "outputs": [],
   "source": [
    "eom = expert_occupancy_measure.value\n",
    "expert_occupancy_measure = np.zeros((n, n, len(actions)))\n",
    "for i in range(len(eom)):    \n",
    "    expert_occupancy_measure[gridworld.S_to_grid[i % n**2][0], \n",
    "                    gridworld.S_to_grid[i % n**2][1], \n",
    "                    int(i / n**2)\n",
    "                    ] = eom[i]"
   ]
  },
  {
   "cell_type": "code",
   "execution_count": 89,
   "metadata": {},
   "outputs": [
    {
     "data": {
      "text/plain": [
       "array([[0., 0., 0., 0., 0., 0., 0., 0., 0., 0.],\n",
       "       [0., 0., 0., 0., 0., 0., 0., 0., 0., 0.],\n",
       "       [0., 0., 0., 0., 0., 0., 0., 0., 0., 0.],\n",
       "       [0., 0., 0., 0., 0., 0., 0., 0., 0., 0.],\n",
       "       [0., 0., 0., 0., 0., 0., 0., 0., 0., 0.],\n",
       "       [0., 0., 0., 0., 0., 0., 0., 0., 0., 0.],\n",
       "       [0., 0., 0., 0., 0., 0., 0., 0., 0., 0.],\n",
       "       [0., 0., 0., 0., 0., 0., 0., 0., 0., 0.],\n",
       "       [0., 0., 0., 0., 0., 0., 0., 0., 0., 0.],\n",
       "       [0., 0., 0., 0., 0., 0., 0., 0., 0., 0.]])"
      ]
     },
     "execution_count": 89,
     "metadata": {},
     "output_type": "execute_result"
    }
   ],
   "source": [
    "expert_policy = np.zeros((n, n))\n",
    "for i in range(n):\n",
    "    for j in range(n):\n",
    "        expert_policy[i, j] = np.argmax(expert_occupancy_measure[i, j, :])\n",
    "expert_policy"
   ]
  },
  {
   "cell_type": "code",
   "execution_count": 90,
   "metadata": {},
   "outputs": [
    {
     "name": "stdout",
     "output_type": "stream",
     "text": [
      "UP\n"
     ]
    },
    {
     "data": {
      "image/png": "[encoded data removed]",
      "text/plain": [
       "<Figure size 480x480 with 1 Axes>"
      ]
     },
     "metadata": {},
     "output_type": "display_data"
    },
    {
     "name": "stdout",
     "output_type": "stream",
     "text": [
      "DOWN\n"
     ]
    },
    {
     "data": {
      "image/png": "[encoded data removed]",
      "text/plain": [
       "<Figure size 480x480 with 1 Axes>"
      ]
     },
     "metadata": {},
     "output_type": "display_data"
    },
    {
     "name": "stdout",
     "output_type": "stream",
     "text": [
      "LEFT\n"
     ]
    },
    {
     "data": {
      "image/png": "[encoded data removed]",
      "text/plain": [
       "<Figure size 480x480 with 1 Axes>"
      ]
     },
     "metadata": {},
     "output_type": "display_data"
    },
    {
     "name": "stdout",
     "output_type": "stream",
     "text": [
      "RIGHT\n"
     ]
    },
    {
     "data": {
      "image/png": "[encoded data removed]",
      "text/plain": [
       "<Figure size 480x480 with 1 Axes>"
      ]
     },
     "metadata": {},
     "output_type": "display_data"
    }
   ],
   "source": [
    "print(\"UP\")\n",
    "plot_occupation(expert_occupancy_measure[:,:,0])\n",
    "print(\"DOWN\")\n",
    "plot_occupation(expert_occupancy_measure[:,:,1])\n",
    "print(\"LEFT\")\n",
    "plot_occupation(expert_occupancy_measure[:,:,2])\n",
    "print(\"RIGHT\")\n",
    "plot_occupation(expert_occupancy_measure[:,:,3])"
   ]
  },
  {
   "cell_type": "code",
   "execution_count": 91,
   "metadata": {},
   "outputs": [],
   "source": [
    "c_true = gridworld.mdp_forward.c"
   ]
  },
  {
   "cell_type": "markdown",
   "metadata": {},
   "source": [
    "### Exploration"
   ]
  },
  {
   "cell_type": "code",
   "execution_count": 92,
   "metadata": {},
   "outputs": [],
   "source": [
    "def cost_prime(s, a, goal, obstacles):\n",
    "    r = 10\n",
    "    if s[0] in obstacles[0] and s[1] in obstacles[1]:\n",
    "        r = 5\n",
    "    elif s[0] in goal[0] and s[1] in goal[1]:\n",
    "        r = 0\n",
    "    return r"
   ]
  },
  {
   "cell_type": "code",
   "execution_count": 93,
   "metadata": {},
   "outputs": [],
   "source": [
    "gridworld = GridWorld(grid, obstacles, goal, actions, transitions, init_dist, cost, gamma, expert_occupancy_measure, cost_prime)\n",
    "gridworld.get_mdp_IRL()\n",
    "gridworld.mdp_IRL.build_T()"
   ]
  },
  {
   "cell_type": "code",
   "execution_count": 94,
   "metadata": {},
   "outputs": [
    {
     "name": "stdout",
     "output_type": "stream",
     "text": [
      "===============================================================================\n",
      "                                     CVXPY                                     \n",
      "                                     v1.5.3                                    \n",
      "===============================================================================\n",
      "(CVXPY) Aug 30 04:36:57 AM: Your problem has 500 variables, 400 constraints, and 0 parameters.\n",
      "(CVXPY) Aug 30 04:36:57 AM: It is compliant with the following grammars: DCP, DQCP\n",
      "(CVXPY) Aug 30 04:36:57 AM: (If you need to solve this problem multiple times, but with different data, consider using parameters.)\n",
      "(CVXPY) Aug 30 04:36:57 AM: CVXPY will first compile your problem; then, it will invoke a numerical solver to obtain a solution.\n",
      "(CVXPY) Aug 30 04:36:57 AM: Your problem is compiled with the CPP canonicalization backend.\n",
      "-------------------------------------------------------------------------------\n",
      "                                  Compilation                                  \n",
      "-------------------------------------------------------------------------------\n",
      "(CVXPY) Aug 30 04:36:57 AM: Compiling problem (target solver=CLARABEL).\n",
      "(CVXPY) Aug 30 04:36:57 AM: Reduction chain: Dcp2Cone -> CvxAttr2Constr -> ConeMatrixStuffing -> CLARABEL\n",
      "(CVXPY) Aug 30 04:36:57 AM: Applying reduction Dcp2Cone\n",
      "(CVXPY) Aug 30 04:36:57 AM: Applying reduction CvxAttr2Constr\n",
      "(CVXPY) Aug 30 04:36:57 AM: Applying reduction ConeMatrixStuffing\n",
      "(CVXPY) Aug 30 04:36:57 AM: Applying reduction CLARABEL\n",
      "(CVXPY) Aug 30 04:36:57 AM: Finished problem compilation (took 1.227e-02 seconds).\n",
      "-------------------------------------------------------------------------------\n",
      "                                Numerical solver                               \n",
      "-------------------------------------------------------------------------------\n",
      "(CVXPY) Aug 30 04:36:57 AM: Invoking solver CLARABEL  to obtain a solution.\n",
      "-------------------------------------------------------------\n",
      "           Clarabel.rs v0.9.0  -  Clever Acronym                \n",
      "\n",
      "                   (c) Paul Goulart                          \n",
      "                University of Oxford, 2022                   \n",
      "-------------------------------------------------------------\n",
      "\n",
      "problem:\n",
      "  variables     = 900\n",
      "  constraints   = 1200\n",
      "  nnz(P)        = 0\n",
      "  nnz(A)        = 2500\n",
      "  cones (total) = 1\n",
      "    : Nonnegative = 1,  numel = 1200\n",
      "\n",
      "settings:\n",
      "  linear algebra: direct / qdldl, precision: 64 bit\n",
      "  max iter = 200, time limit = Inf,  max step = 0.990\n",
      "  tol_feas = 1.0e-8, tol_gap_abs = 1.0e-8, tol_gap_rel = 1.0e-8,\n",
      "  static reg : on, ϵ1 = 1.0e-8, ϵ2 = 4.9e-32\n",
      "  dynamic reg: on, ϵ = 1.0e-13, δ = 2.0e-7\n",
      "  iter refine: on, reltol = 1.0e-13, abstol = 1.0e-12,\n",
      "               max iter = 10, stop ratio = 5.0\n",
      "  equilibrate: on, min_scale = 1.0e-4, max_scale = 1.0e4\n",
      "               max iter = 10\n",
      "\n",
      "iter    pcost        dcost       gap       pres      dres      k/t        μ       step      \n",
      "---------------------------------------------------------------------------------------------\n",
      "  0  +6.6550e+01  +6.6550e+01  2.07e-13  5.47e-01  9.23e-01  1.00e+00  1.14e+01   ------   \n",
      "  1  +2.5610e+02  +2.5889e+02  1.09e-02  3.18e-01  4.83e-01  3.27e+00  7.50e+00  6.80e-01  \n",
      "  2  +1.7555e+02  +1.7878e+02  1.84e-02  1.96e-01  2.90e-01  3.51e+00  5.24e+00  4.38e-01  \n",
      "  3  +1.2235e+02  +1.2395e+02  1.30e-02  6.15e-02  8.96e-02  1.68e+00  1.96e+00  6.50e-01  \n",
      "  4  +1.0987e+02  +1.1124e+02  1.24e-02  4.83e-02  7.56e-02  1.43e+00  1.57e+00  2.73e-01  \n",
      "  5  +8.1884e+01  +8.2358e+01  5.79e-03  3.28e-02  4.90e-02  5.20e-01  1.11e+00  7.24e-01  \n",
      "  6  +5.0426e+01  +5.0533e+01  2.13e-03  7.68e-03  1.19e-02  1.19e-01  2.77e-01  7.76e-01  \n",
      "  7  +4.4419e+01  +4.4452e+01  7.32e-04  2.27e-03  3.53e-03  3.59e-02  8.48e-02  7.09e-01  \n",
      "  8  +4.6786e+01  +4.6827e+01  8.82e-04  1.91e-03  3.70e-03  4.54e-02  7.06e-02  5.16e-01  \n",
      "  9  +4.5037e+01  +4.5052e+01  3.33e-04  1.42e-03  2.81e-03  1.82e-02  5.22e-02  9.90e-01  \n",
      " 10  +4.4257e+01  +4.4274e+01  3.74e-04  1.00e-03  2.16e-03  1.94e-02  3.78e-02  3.89e-01  \n",
      " 11  +4.4140e+01  +4.4171e+01  7.03e-04  4.37e-04  1.07e-03  3.35e-02  1.72e-02  9.90e-01  \n",
      " 12  +4.0540e+01  +4.0572e+01  7.81e-04  3.08e-04  7.68e-04  3.38e-02  1.24e-02  4.72e-01  \n",
      " 13  +2.6923e+01  +2.6956e+01  1.22e-03  1.27e-04  3.22e-04  3.43e-02  5.32e-03  6.52e-01  \n",
      " 14  +7.8498e+00  +7.8585e+00  1.12e-03  2.72e-05  6.79e-05  9.06e-03  1.15e-03  9.90e-01  \n",
      " 15  +1.1378e-01  +1.1388e-01  9.76e-05  3.86e-07  9.59e-07  1.02e-04  1.65e-05  9.90e-01  \n",
      " 16  +1.1307e-03  +1.1317e-03  9.76e-07  3.86e-09  9.59e-09  1.02e-06  1.65e-07  9.90e-01  \n",
      " 17  +3.3893e-06  +3.3991e-06  9.83e-09  3.86e-11  9.60e-11  1.02e-08  1.66e-09  9.90e-01  \n",
      "---------------------------------------------------------------------------------------------\n",
      "Terminated with status = Solved\n",
      "solve time = 5.7351ms\n",
      "-------------------------------------------------------------------------------\n",
      "                                    Summary                                    \n",
      "-------------------------------------------------------------------------------\n",
      "(CVXPY) Aug 30 04:36:57 AM: Problem status: optimal\n",
      "(CVXPY) Aug 30 04:36:57 AM: Optimal value: -3.688e-06\n",
      "(CVXPY) Aug 30 04:36:57 AM: Compilation took 1.227e-02 seconds\n",
      "(CVXPY) Aug 30 04:36:57 AM: Solver (including time spent in interface) took 7.889e-03 seconds\n"
     ]
    }
   ],
   "source": [
    "solver = Solver(gridworld.mdp_IRL, gridworld.c_hat, gridworld.mdp_IRL.mu_e)\n",
    "prob, c_exp, u_exp = solver.solve()"
   ]
  },
  {
   "cell_type": "code",
   "execution_count": 95,
   "metadata": {},
   "outputs": [],
   "source": [
    "c_reconstructed = np.zeros((n, n, len(actions)))\n",
    "for i in range(len(c_exp.value)):    \n",
    "    c_reconstructed[gridworld.S_to_grid[i % n**2][0], \n",
    "                    gridworld.S_to_grid[i % n**2][1], \n",
    "                    int(i / n**2)\n",
    "                    ] = c_exp.value[i]"
   ]
  },
  {
   "cell_type": "code",
   "execution_count": 96,
   "metadata": {},
   "outputs": [
    {
     "name": "stdout",
     "output_type": "stream",
     "text": [
      "UP\n"
     ]
    },
    {
     "data": {
      "image/png": "[encoded data removed]",
      "text/plain": [
       "<Figure size 480x480 with 1 Axes>"
      ]
     },
     "metadata": {},
     "output_type": "display_data"
    },
    {
     "name": "stdout",
     "output_type": "stream",
     "text": [
      "DOWN\n"
     ]
    },
    {
     "data": {
      "image/png": "[encoded data removed]",
      "text/plain": [
       "<Figure size 480x480 with 1 Axes>"
      ]
     },
     "metadata": {},
     "output_type": "display_data"
    },
    {
     "name": "stdout",
     "output_type": "stream",
     "text": [
      "LEFT\n"
     ]
    },
    {
     "data": {
      "image/png": "[encoded data removed]",
      "text/plain": [
       "<Figure size 480x480 with 1 Axes>"
      ]
     },
     "metadata": {},
     "output_type": "display_data"
    },
    {
     "name": "stdout",
     "output_type": "stream",
     "text": [
      "RIGHT\n"
     ]
    },
    {
     "data": {
      "image/png": "[encoded data removed]",
      "text/plain": [
       "<Figure size 480x480 with 1 Axes>"
      ]
     },
     "metadata": {},
     "output_type": "display_data"
    }
   ],
   "source": [
    "print(\"UP\")\n",
    "plot_cost_function(c_reconstructed[:, :, 0])\n",
    "print(\"DOWN\")\n",
    "plot_cost_function(c_reconstructed[:, :, 1])\n",
    "print(\"LEFT\")\n",
    "plot_cost_function(c_reconstructed[:, :, 2])\n",
    "print(\"RIGHT\")\n",
    "plot_cost_function(c_reconstructed[:, :, 3])"
   ]
  },
  {
   "cell_type": "code",
   "execution_count": 97,
   "metadata": {},
   "outputs": [
    {
     "name": "stdout",
     "output_type": "stream",
     "text": [
      "Difference between c_exp and c_true\n",
      "173.0895720188197\n"
     ]
    }
   ],
   "source": [
    "print(\"Difference between c_exp and c_true\")\n",
    "print(np.linalg.norm(c_exp.value - c_true))"
   ]
  },
  {
   "cell_type": "code",
   "execution_count": 98,
   "metadata": {},
   "outputs": [
    {
     "data": {
      "image/png": "[encoded data removed]",
      "text/plain": [
       "<Figure size 480x480 with 1 Axes>"
      ]
     },
     "metadata": {},
     "output_type": "display_data"
    },
    {
     "name": "stdout",
     "output_type": "stream",
     "text": [
      "-94.99999183687338\n"
     ]
    }
   ],
   "source": [
    "u_reconstructed = np.zeros((n, n))\n",
    "for i in range(len(u_exp.value)):\n",
    "    u_reconstructed[gridworld.S_to_grid[i][0], gridworld.S_to_grid[i][1]] = u_exp.value[i]\n",
    "plot_cost_function(u_reconstructed)\n",
    "print(u_reconstructed[5,5])"
   ]
  },
  {
   "cell_type": "markdown",
   "metadata": {},
   "source": [
    "### Inverse Optimization for Cost Function"
   ]
  },
  {
   "cell_type": "code",
   "execution_count": 99,
   "metadata": {},
   "outputs": [
    {
     "name": "stdout",
     "output_type": "stream",
     "text": [
      "===============================================================================\n",
      "                                     CVXPY                                     \n",
      "                                     v1.5.3                                    \n",
      "===============================================================================\n",
      "(CVXPY) Aug 30 04:36:57 AM: Your problem has 500 variables, 401 constraints, and 0 parameters.\n",
      "(CVXPY) Aug 30 04:36:57 AM: It is compliant with the following grammars: DCP, DQCP\n",
      "(CVXPY) Aug 30 04:36:57 AM: (If you need to solve this problem multiple times, but with different data, consider using parameters.)\n",
      "(CVXPY) Aug 30 04:36:57 AM: CVXPY will first compile your problem; then, it will invoke a numerical solver to obtain a solution.\n",
      "(CVXPY) Aug 30 04:36:57 AM: Your problem is compiled with the CPP canonicalization backend.\n",
      "-------------------------------------------------------------------------------\n",
      "                                  Compilation                                  \n",
      "-------------------------------------------------------------------------------\n",
      "(CVXPY) Aug 30 04:36:57 AM: Compiling problem (target solver=CLARABEL).\n",
      "(CVXPY) Aug 30 04:36:57 AM: Reduction chain: Dcp2Cone -> CvxAttr2Constr -> ConeMatrixStuffing -> CLARABEL\n",
      "(CVXPY) Aug 30 04:36:57 AM: Applying reduction Dcp2Cone\n",
      "(CVXPY) Aug 30 04:36:57 AM: Applying reduction CvxAttr2Constr\n",
      "(CVXPY) Aug 30 04:36:57 AM: Applying reduction ConeMatrixStuffing\n",
      "(CVXPY) Aug 30 04:36:57 AM: Applying reduction CLARABEL\n",
      "(CVXPY) Aug 30 04:36:57 AM: Finished problem compilation (took 1.481e-02 seconds).\n",
      "-------------------------------------------------------------------------------\n",
      "                                Numerical solver                               \n",
      "-------------------------------------------------------------------------------\n",
      "(CVXPY) Aug 30 04:36:57 AM: Invoking solver CLARABEL  to obtain a solution.\n",
      "-------------------------------------------------------------\n",
      "           Clarabel.rs v0.9.0  -  Clever Acronym                \n",
      "\n",
      "                   (c) Paul Goulart                          \n",
      "                University of Oxford, 2022                   \n",
      "-------------------------------------------------------------\n",
      "\n",
      "problem:\n",
      "  variables     = 900\n",
      "  constraints   = 1201\n",
      "  nnz(P)        = 0\n",
      "  nnz(A)        = 3000\n",
      "  cones (total) = 2\n",
      "    :        Zero = 1,  numel = 1\n",
      "    : Nonnegative = 1,  numel = 1200\n",
      "\n",
      "settings:\n",
      "  linear algebra: direct / qdldl, precision: 64 bit\n",
      "  max iter = 200, time limit = Inf,  max step = 0.990\n",
      "  tol_feas = 1.0e-8, tol_gap_abs = 1.0e-8, tol_gap_rel = 1.0e-8,\n",
      "  static reg : on, ϵ1 = 1.0e-8, ϵ2 = 4.9e-32\n",
      "  dynamic reg: on, ϵ = 1.0e-13, δ = 2.0e-7\n",
      "  iter refine: on, reltol = 1.0e-13, abstol = 1.0e-12,\n",
      "               max iter = 10, stop ratio = 5.0\n",
      "  equilibrate: on, min_scale = 1.0e-4, max_scale = 1.0e4\n",
      "               max iter = 10\n",
      "\n",
      "iter    pcost        dcost       gap       pres      dres      k/t        μ       step      \n",
      "---------------------------------------------------------------------------------------------\n",
      "  0  +0.0000e+00  -0.0000e+00  0.00e+00  6.75e-01  7.69e-01  1.00e+00  1.62e+01   ------   \n",
      "  1  +1.2708e+02  +1.2987e+02  2.20e-02  2.02e-01  1.51e-01  2.97e+00  5.76e+00  9.90e-01  \n",
      "  2  +8.9579e+01  +9.0755e+01  1.31e-02  7.20e-02  5.40e-02  1.24e+00  2.29e+00  6.19e-01  \n",
      "  3  +5.0291e+01  +5.0623e+01  6.60e-03  2.98e-02  2.16e-02  3.58e-01  9.94e-01  7.76e-01  \n",
      "  4  +4.4372e+01  +4.4425e+01  1.18e-03  6.10e-03  4.31e-03  5.79e-02  2.14e-01  9.42e-01  \n",
      "  5  +4.7456e+01  +4.7504e+01  9.92e-04  2.87e-03  2.60e-03  5.17e-02  1.18e-01  9.90e-01  \n",
      "  6  +4.4076e+01  +4.4121e+01  1.02e-03  5.05e-04  5.19e-04  4.69e-02  2.50e-02  8.22e-01  \n",
      "  7  +4.3322e+01  +4.3393e+01  1.65e-03  2.95e-04  3.11e-04  7.34e-02  1.60e-02  4.60e-01  \n",
      "  8  +2.1003e+01  +2.1003e+01  3.04e-06  3.27e-04  3.29e-04  9.17e-04  1.56e-02  2.01e-01  \n",
      "  9  +1.1628e+00  +1.1637e+00  7.60e-04  1.23e-05  1.29e-05  9.63e-04  6.69e-04  9.74e-01  \n",
      " 10  +1.1769e-02  +1.1778e-02  8.90e-06  1.25e-07  1.31e-07  9.71e-06  6.80e-06  9.90e-01  \n",
      " 11  +9.3069e-05  +9.3152e-05  8.32e-08  1.96e-09  2.10e-09  9.60e-08  1.08e-07  9.84e-01  \n",
      " 12  +2.6004e-07  +2.6090e-07  8.62e-10  7.96e-11  4.89e-11  1.12e-09  2.52e-09  9.77e-01  \n",
      "---------------------------------------------------------------------------------------------\n",
      "Terminated with status = Solved\n",
      "solve time = 5.0478ms\n",
      "-------------------------------------------------------------------------------\n",
      "                                    Summary                                    \n",
      "-------------------------------------------------------------------------------\n",
      "(CVXPY) Aug 30 04:36:57 AM: Problem status: optimal\n",
      "(CVXPY) Aug 30 04:36:57 AM: Optimal value: 4.401e-07\n",
      "(CVXPY) Aug 30 04:36:57 AM: Compilation took 1.481e-02 seconds\n",
      "(CVXPY) Aug 30 04:36:57 AM: Solver (including time spent in interface) took 5.570e-03 seconds\n"
     ]
    }
   ],
   "source": [
    "prob, c_IRL, u_IRL = solver.solve_irl()"
   ]
  },
  {
   "cell_type": "code",
   "execution_count": 100,
   "metadata": {},
   "outputs": [],
   "source": [
    "c_reconstructed = np.zeros((n, n, len(actions)))\n",
    "for i in range(len(c_IRL.value)):    \n",
    "    c_reconstructed[gridworld.S_to_grid[i % n**2][0], \n",
    "                    gridworld.S_to_grid[i % n**2][1], \n",
    "                    int(i / n**2)\n",
    "                    ] = c_IRL.value[i]\n",
    "u_reconstructed = np.zeros((n, n))\n",
    "for i in range(len(u_IRL.value)):\n",
    "    u_reconstructed[gridworld.S_to_grid[i][0], gridworld.S_to_grid[i][1]] = u_IRL.value[i]"
   ]
  },
  {
   "cell_type": "code",
   "execution_count": 101,
   "metadata": {},
   "outputs": [
    {
     "name": "stdout",
     "output_type": "stream",
     "text": [
      "UP\n"
     ]
    },
    {
     "data": {
      "image/png": "[encoded data removed]",
      "text/plain": [
       "<Figure size 480x480 with 1 Axes>"
      ]
     },
     "metadata": {},
     "output_type": "display_data"
    },
    {
     "name": "stdout",
     "output_type": "stream",
     "text": [
      "DOWN\n"
     ]
    },
    {
     "data": {
      "image/png": "[encoded data removed]",
      "text/plain": [
       "<Figure size 480x480 with 1 Axes>"
      ]
     },
     "metadata": {},
     "output_type": "display_data"
    },
    {
     "name": "stdout",
     "output_type": "stream",
     "text": [
      "LEFT\n"
     ]
    },
    {
     "data": {
      "image/png": "[encoded data removed]",
      "text/plain": [
       "<Figure size 480x480 with 1 Axes>"
      ]
     },
     "metadata": {},
     "output_type": "display_data"
    },
    {
     "name": "stdout",
     "output_type": "stream",
     "text": [
      "RIGHT\n"
     ]
    },
    {
     "data": {
      "image/png": "[encoded data removed]",
      "text/plain": [
       "<Figure size 480x480 with 1 Axes>"
      ]
     },
     "metadata": {},
     "output_type": "display_data"
    }
   ],
   "source": [
    "print(\"UP\")\n",
    "plot_cost_function(c_reconstructed[:, :, 0])\n",
    "print(\"DOWN\")\n",
    "plot_cost_function(c_reconstructed[:, :, 1])\n",
    "print(\"LEFT\")\n",
    "plot_cost_function(c_reconstructed[:, :, 2])\n",
    "print(\"RIGHT\")\n",
    "plot_cost_function(c_reconstructed[:, :, 3])"
   ]
  },
  {
   "cell_type": "code",
   "execution_count": 102,
   "metadata": {},
   "outputs": [
    {
     "data": {
      "image/png": "[encoded data removed]",
      "text/plain": [
       "<Figure size 480x480 with 1 Axes>"
      ]
     },
     "metadata": {},
     "output_type": "display_data"
    },
    {
     "data": {
      "text/plain": [
       "np.float64(-89.99999077766643)"
      ]
     },
     "execution_count": 102,
     "metadata": {},
     "output_type": "execute_result"
    }
   ],
   "source": [
    "plot_cost_function(u_reconstructed)\n",
    "u_reconstructed[n-1,n-1]"
   ]
  },
  {
   "cell_type": "code",
   "execution_count": 103,
   "metadata": {},
   "outputs": [
    {
     "name": "stdout",
     "output_type": "stream",
     "text": [
      "Difference between c_IRL and c_true\n",
      "173.08957216597278\n"
     ]
    }
   ],
   "source": [
    "print(\"Difference between c_IRL and c_true\")\n",
    "print(np.linalg.norm(c_IRL.value - c_true))"
   ]
  },
  {
   "cell_type": "code",
   "execution_count": 104,
   "metadata": {},
   "outputs": [
    {
     "name": "stdout",
     "output_type": "stream",
     "text": [
      "Difference in cost functions learnt\n",
      "1.8967806434043201e-06\n",
      "Difference in u learnt\n",
      "1.4367950303214056e-05\n"
     ]
    }
   ],
   "source": [
    "print(\"Difference in cost functions learnt\")\n",
    "print(np.linalg.norm(c_IRL.value-c_exp.value))\n",
    "print(\"Difference in u learnt\")\n",
    "print(np.linalg.norm(u_IRL.value - u_exp.value))"
   ]
  },
  {
   "cell_type": "code",
   "execution_count": 109,
   "metadata": {},
   "outputs": [
    {
     "name": "stdout",
     "output_type": "stream",
     "text": [
      "Difference in c_IRL learnt vs c_prime\n",
      "2.1219842243322577e-07\n",
      "Difference in c_exp learnt vs c_prime\n",
      "2.0514883227843554e-06\n"
     ]
    }
   ],
   "source": [
    "print(\"Difference in c_IRL learnt vs c_prime\")\n",
    "print(np.linalg.norm(c_IRL.value-gridworld.c_hat))\n",
    "print(\"Difference in c_exp learnt vs c_prime\")\n",
    "print(np.linalg.norm(c_exp.value-gridworld.c_hat))"
   ]
  }
 ],
 "metadata": {
  "kernelspec": {
   "display_name": "venv",
   "language": "python",
   "name": "python3"
  },
  "language_info": {
   "codemirror_mode": {
    "name": "ipython",
    "version": 3
   },
   "file_extension": ".py",
   "mimetype": "text/x-python",
   "name": "python",
   "nbconvert_exporter": "python",
   "pygments_lexer": "ipython3",
   "version": "3.10.11"
  }
 },
 "nbformat": 4,
 "nbformat_minor": 2
}
