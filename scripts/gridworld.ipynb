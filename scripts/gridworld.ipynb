{
 "cells": [
  {
   "cell_type": "code",
   "execution_count": 32,
   "metadata": {},
   "outputs": [],
   "source": [
    "import numpy as np\n",
    "from apprenticheshiplearning.utils.gridworld import plot_gridworld, plot_cost_function, plot_occupation, sanity_check, plot_policy\n",
    "from apprenticheshiplearning.problems.gridworld import GridWorld\n",
    "from apprenticheshiplearning.classes.solver import SolverMdp, SolverIRL, SolverApp"
   ]
  },
  {
   "cell_type": "markdown",
   "metadata": {},
   "source": [
    "### Setting"
   ]
  },
  {
   "cell_type": "code",
   "execution_count": 33,
   "metadata": {},
   "outputs": [],
   "source": [
    "# Parameters\n",
    "n = 10\n",
    "wind_intensity = 0.3 # between 0 and 1\n",
    "gamma = 0.99"
   ]
  },
  {
   "cell_type": "code",
   "execution_count": 34,
   "metadata": {},
   "outputs": [],
   "source": [
    "grid = np.zeros((n, n))\n",
    "goal = [                    \n",
    "        [n-1, n-2], \n",
    "        [n-1]\n",
    "        ]\n",
    "obstacles = [\n",
    "                [int(n/2)],\n",
    "                [i for  i in range(0,int(n/1.2))]\n",
    "            ]\n",
    "actions = [\"up\", \"down\", \"left\", \"right\"]\n",
    "init_dist = np.ones((n,n))"
   ]
  },
  {
   "cell_type": "code",
   "execution_count": 35,
   "metadata": {},
   "outputs": [
    {
     "data": {
      "image/png": "[encoded data removed]",
      "text/plain": [
       "<Figure size 640x480 with 1 Axes>"
      ]
     },
     "metadata": {},
     "output_type": "display_data"
    }
   ],
   "source": [
    "plot_gridworld(grid, obstacles, goal)"
   ]
  },
  {
   "cell_type": "code",
   "execution_count": 36,
   "metadata": {},
   "outputs": [],
   "source": [
    "def transitions(s1, s , a, goal): #go from s to s1 with action a\n",
    "    if a == \"up\":\n",
    "        if s[0] != 0 and s[1] == n - 1:\n",
    "            if s1[0] == s[0] and s1[1] == s[1]:\n",
    "                return 1 - wind_intensity\n",
    "            elif s1[0] == s[0] - 1 and s1[1] == s[1]:\n",
    "                return wind_intensity\n",
    "            else:\n",
    "                return 0\n",
    "        elif s[0] == 0 and s[1] == n - 1:\n",
    "            if s1[0] == s[0] and s1[1] == s[1]:\n",
    "                return 1\n",
    "            else:\n",
    "                return 0\n",
    "        elif s[0] == 0 and s[1] < n - 1:\n",
    "            if s1[0] == s[0] and s1[1] == s[1] + 1:\n",
    "                return 1\n",
    "            else:\n",
    "                return 0\n",
    "        else:\n",
    "            if s1[0] == s[0] and s1[1] == s[1] + 1:\n",
    "                return 1 - wind_intensity\n",
    "            elif s1[0] == s[0] - 1 and s1[1] == s[1] + 1:\n",
    "                return wind_intensity\n",
    "            else:\n",
    "                return 0\n",
    "            \n",
    "    if a == \"down\":\n",
    "        if s[0] != 0 and s[1] == 0:\n",
    "            if s1[0] == s[0] and s1[1] == s[1]:\n",
    "                return 1 - wind_intensity\n",
    "            elif s1[0] == s[0] - 1 and s1[1] == s[1]:\n",
    "                return wind_intensity\n",
    "            else:\n",
    "                return 0\n",
    "        elif s[0] == 0 and s[1] == 0:\n",
    "            if s1[0] == s[0] and s1[1] == s[1]:\n",
    "                return 1\n",
    "            else:\n",
    "                return 0\n",
    "        elif s[0] == 0 and s[1] > 0:\n",
    "            if s1[0] == s[0] and s1[1] == s[1] - 1:\n",
    "                return 1\n",
    "            else:\n",
    "                return 0\n",
    "        else:\n",
    "            if s1[0] == s[0] and s1[1] == s[1] - 1:\n",
    "                return 1 - wind_intensity\n",
    "            elif s1[0] == s[0] - 1 and s1[1] == s[1] - 1:\n",
    "                return wind_intensity\n",
    "            else:\n",
    "                return 0\n",
    "\n",
    "    if a == \"left\":\n",
    "        if s[0] == 0:\n",
    "            if s1[0] == s[0] and s1[1] == s[1]:\n",
    "                return 1\n",
    "            else:\n",
    "                return 0\n",
    "        elif s[0] == 1:\n",
    "            if s1[0] == s[0] - 1 and s1[1] == s[1]:\n",
    "                return 1\n",
    "            else:\n",
    "                return 0\n",
    "        else:\n",
    "            if s1[0] == s[0] - 1 and s1[1] == s[1]:\n",
    "                return 1 - wind_intensity\n",
    "            elif s1[0] == s[0] - 2 and s1[1] == s[1]:\n",
    "                return wind_intensity\n",
    "            else:\n",
    "                return 0\n",
    "\n",
    "    if a == \"right\":\n",
    "        if s[0] == n - 1:\n",
    "            if s1[0] == s[0] and s1[1] == s[1]:\n",
    "                return 1\n",
    "            else:\n",
    "                return 0\n",
    "        else:\n",
    "            if s1[0] == s[0] + 1 and s1[1] == s[1]:\n",
    "                return 1 - wind_intensity\n",
    "            elif s1[0] == s[0] and s1[1] == s[1]:\n",
    "                return wind_intensity\n",
    "            else:\n",
    "                return 0\n",
    "\n",
    "def cost(s, a, goal, obstacles):\n",
    "    r = 1\n",
    "    if s[0] in obstacles[0] and s[1] in obstacles[1]:\n",
    "        r = 100\n",
    "    elif s[0] in goal[0] and s[1] in goal[1]:\n",
    "        r = 0\n",
    "    return r"
   ]
  },
  {
   "cell_type": "code",
   "execution_count": 37,
   "metadata": {},
   "outputs": [
    {
     "name": "stdout",
     "output_type": "stream",
     "text": [
      "===============================================================================\n",
      "                                     CVXPY                                     \n",
      "                                     v1.5.3                                    \n",
      "===============================================================================\n",
      "(CVXPY) Sep 01 10:20:07 PM: Your problem has 400 variables, 500 constraints, and 0 parameters.\n",
      "(CVXPY) Sep 01 10:20:07 PM: It is compliant with the following grammars: DCP, DQCP\n",
      "(CVXPY) Sep 01 10:20:07 PM: (If you need to solve this problem multiple times, but with different data, consider using parameters.)\n",
      "(CVXPY) Sep 01 10:20:07 PM: CVXPY will first compile your problem; then, it will invoke a numerical solver to obtain a solution.\n",
      "(CVXPY) Sep 01 10:20:07 PM: Your problem is compiled with the CPP canonicalization backend.\n",
      "-------------------------------------------------------------------------------\n",
      "                                  Compilation                                  \n",
      "-------------------------------------------------------------------------------\n",
      "(CVXPY) Sep 01 10:20:07 PM: Compiling problem (target solver=CLARABEL).\n",
      "(CVXPY) Sep 01 10:20:07 PM: Reduction chain: Dcp2Cone -> CvxAttr2Constr -> ConeMatrixStuffing -> CLARABEL\n",
      "(CVXPY) Sep 01 10:20:07 PM: Applying reduction Dcp2Cone\n",
      "(CVXPY) Sep 01 10:20:07 PM: Applying reduction CvxAttr2Constr\n",
      "(CVXPY) Sep 01 10:20:07 PM: Applying reduction ConeMatrixStuffing\n",
      "(CVXPY) Sep 01 10:20:07 PM: Applying reduction CLARABEL\n",
      "(CVXPY) Sep 01 10:20:07 PM: Finished problem compilation (took 1.647e-02 seconds).\n",
      "-------------------------------------------------------------------------------\n",
      "                                Numerical solver                               \n",
      "-------------------------------------------------------------------------------\n",
      "(CVXPY) Sep 01 10:20:07 PM: Invoking solver CLARABEL  to obtain a solution.\n",
      "-------------------------------------------------------------\n",
      "           Clarabel.rs v0.9.0  -  Clever Acronym                \n",
      "\n",
      "                   (c) Paul Goulart                          \n",
      "                University of Oxford, 2022                   \n",
      "-------------------------------------------------------------\n",
      "\n",
      "problem:\n",
      "  variables     = 400\n",
      "  constraints   = 500\n",
      "  nnz(P)        = 0\n",
      "  nnz(A)        = 1420\n",
      "  cones (total) = 2\n",
      "    :        Zero = 1,  numel = 100\n",
      "    : Nonnegative = 1,  numel = 400\n",
      "\n",
      "settings:\n",
      "  linear algebra: direct / qdldl, precision: 64 bit\n",
      "  max iter = 200, time limit = Inf,  max step = 0.990\n",
      "  tol_feas = 1.0e-8, tol_gap_abs = 1.0e-8, tol_gap_rel = 1.0e-8,\n",
      "  static reg : on, ϵ1 = 1.0e-8, ϵ2 = 4.9e-32\n",
      "  dynamic reg: on, ϵ = 1.0e-13, δ = 2.0e-7\n",
      "  iter refine: on, reltol = 1.0e-13, abstol = 1.0e-12,\n",
      "               max iter = 10, stop ratio = 5.0\n",
      "  equilibrate: on, min_scale = 1.0e-4, max_scale = 1.0e4\n",
      "               max iter = 10\n",
      "\n",
      "iter    pcost        dcost       gap       pres      dres      k/t        μ       step      \n",
      "---------------------------------------------------------------------------------------------\n",
      "  0  +8.7129e+04  +8.7129e+04  1.34e-15  2.26e-16  4.19e-02  1.00e+00  4.90e+02   ------   \n",
      "  1  +2.6141e+04  +2.6299e+04  6.05e-03  9.06e-17  4.31e-02  1.58e+02  1.80e+02  9.55e-01  \n",
      "  2  +1.3029e+04  +1.3057e+04  2.16e-03  7.43e-17  1.21e-02  2.82e+01  3.14e+01  8.50e-01  \n",
      "  3  +8.8765e+03  +8.9043e+03  3.12e-03  5.82e-15  6.65e-03  2.78e+01  3.05e+01  1.81e-01  \n",
      "  4  +3.5776e+03  +3.5844e+03  1.90e-03  7.78e-16  1.10e-03  6.82e+00  7.35e+00  8.02e-01  \n",
      "  5  +2.2168e+03  +2.2182e+03  6.73e-04  3.24e-15  2.13e-04  1.49e+00  1.57e+00  8.65e-01  \n",
      "  6  +1.9702e+03  +1.9707e+03  2.39e-04  1.55e-15  6.55e-05  4.71e-01  4.91e-01  7.31e-01  \n",
      "  7  +1.8918e+03  +1.8919e+03  7.95e-05  6.75e-16  2.07e-05  1.51e-01  1.56e-01  7.19e-01  \n",
      "  8  +1.8600e+03  +1.8601e+03  1.46e-05  2.13e-16  3.70e-06  2.72e-02  2.79e-02  8.69e-01  \n",
      "  9  +1.8538e+03  +1.8538e+03  2.10e-06  1.24e-16  5.30e-07  3.91e-03  4.00e-03  8.68e-01  \n",
      " 10  +1.8528e+03  +1.8528e+03  3.41e-08  7.69e-17  8.57e-09  6.34e-05  6.47e-05  9.86e-01  \n",
      " 11  +1.8528e+03  +1.8528e+03  3.42e-10  1.76e-15  8.57e-11  6.35e-07  6.48e-07  9.90e-01  \n",
      "---------------------------------------------------------------------------------------------\n",
      "Terminated with status = Solved\n",
      "solve time = 3.1109ms\n",
      "-------------------------------------------------------------------------------\n",
      "                                    Summary                                    \n",
      "-------------------------------------------------------------------------------\n",
      "(CVXPY) Sep 01 10:20:07 PM: Problem status: optimal\n",
      "(CVXPY) Sep 01 10:20:07 PM: Optimal value: 1.853e+03\n",
      "(CVXPY) Sep 01 10:20:07 PM: Compilation took 1.647e-02 seconds\n",
      "(CVXPY) Sep 01 10:20:07 PM: Solver (including time spent in interface) took 5.148e-03 seconds\n"
     ]
    }
   ],
   "source": [
    "gridworld = GridWorld(grid, obstacles, goal, actions, transitions, init_dist, cost, gamma)\n",
    "gridworld.get_mdp_forward()\n",
    "gridworld.mdp_forward.build_T()\n",
    "solver_expert = SolverMdp(gridworld.mdp_forward)\n",
    "prob, mu_e = solver_expert.solve()"
   ]
  },
  {
   "cell_type": "code",
   "execution_count": 38,
   "metadata": {},
   "outputs": [
    {
     "data": {
      "image/png": "[encoded data removed]",
      "text/plain": [
       "<Figure size 640x480 with 1 Axes>"
      ]
     },
     "metadata": {},
     "output_type": "display_data"
    }
   ],
   "source": [
    "policy_e = gridworld.mdp_forward.get_policy_from_mu(mu_e.value)\n",
    "visualize_policy = np.zeros((n,n))\n",
    "for i in range(n):\n",
    "    for j in range(n):\n",
    "        visualize_policy[i,j] = np.argmax(policy_e[gridworld.grid_to_S[i, j]])\n",
    "plot_policy(grid, visualize_policy, obstacles, goal)"
   ]
  },
  {
   "cell_type": "markdown",
   "metadata": {},
   "source": [
    "### Sanity Check"
   ]
  },
  {
   "cell_type": "code",
   "execution_count": 39,
   "metadata": {},
   "outputs": [
    {
     "name": "stdout",
     "output_type": "stream",
     "text": [
      "===============================================================================\n",
      "                                     CVXPY                                     \n",
      "                                     v1.5.3                                    \n",
      "===============================================================================\n",
      "(CVXPY) Sep 01 10:20:07 PM: Your problem has 400 variables, 500 constraints, and 0 parameters.\n",
      "(CVXPY) Sep 01 10:20:07 PM: It is compliant with the following grammars: DCP, DQCP\n",
      "(CVXPY) Sep 01 10:20:07 PM: (If you need to solve this problem multiple times, but with different data, consider using parameters.)\n",
      "(CVXPY) Sep 01 10:20:07 PM: CVXPY will first compile your problem; then, it will invoke a numerical solver to obtain a solution.\n",
      "(CVXPY) Sep 01 10:20:07 PM: Your problem is compiled with the CPP canonicalization backend.\n",
      "-------------------------------------------------------------------------------\n",
      "                                  Compilation                                  \n",
      "-------------------------------------------------------------------------------\n",
      "(CVXPY) Sep 01 10:20:07 PM: Compiling problem (target solver=CLARABEL).\n",
      "(CVXPY) Sep 01 10:20:07 PM: Reduction chain: Dcp2Cone -> CvxAttr2Constr -> ConeMatrixStuffing -> CLARABEL\n",
      "(CVXPY) Sep 01 10:20:07 PM: Applying reduction Dcp2Cone\n",
      "(CVXPY) Sep 01 10:20:07 PM: Applying reduction CvxAttr2Constr\n",
      "(CVXPY) Sep 01 10:20:07 PM: Applying reduction ConeMatrixStuffing\n",
      "(CVXPY) Sep 01 10:20:07 PM: Applying reduction CLARABEL\n",
      "(CVXPY) Sep 01 10:20:07 PM: Finished problem compilation (took 8.253e-03 seconds).\n",
      "-------------------------------------------------------------------------------\n",
      "                                Numerical solver                               \n",
      "-------------------------------------------------------------------------------\n",
      "(CVXPY) Sep 01 10:20:07 PM: Invoking solver CLARABEL  to obtain a solution.\n",
      "-------------------------------------------------------------\n",
      "           Clarabel.rs v0.9.0  -  Clever Acronym                \n",
      "\n",
      "                   (c) Paul Goulart                          \n",
      "                University of Oxford, 2022                   \n",
      "-------------------------------------------------------------\n",
      "\n",
      "problem:\n",
      "  variables     = 400\n",
      "  constraints   = 500\n",
      "  nnz(P)        = 0\n",
      "  nnz(A)        = 1420\n",
      "  cones (total) = 2\n",
      "    :        Zero = 1,  numel = 100\n",
      "    : Nonnegative = 1,  numel = 400\n",
      "\n",
      "settings:\n",
      "  linear algebra: direct / qdldl, precision: 64 bit\n",
      "  max iter = 200, time limit = Inf,  max step = 0.990\n",
      "  tol_feas = 1.0e-8, tol_gap_abs = 1.0e-8, tol_gap_rel = 1.0e-8,\n",
      "  static reg : on, ϵ1 = 1.0e-8, ϵ2 = 4.9e-32\n",
      "  dynamic reg: on, ϵ = 1.0e-13, δ = 2.0e-7\n",
      "  iter refine: on, reltol = 1.0e-13, abstol = 1.0e-12,\n",
      "               max iter = 10, stop ratio = 5.0\n",
      "  equilibrate: on, min_scale = 1.0e-4, max_scale = 1.0e4\n",
      "               max iter = 10\n",
      "\n",
      "iter    pcost        dcost       gap       pres      dres      k/t        μ       step      \n",
      "---------------------------------------------------------------------------------------------\n",
      "  0  +8.7129e+04  +8.7129e+04  1.34e-15  2.26e-16  4.19e-02  1.00e+00  4.90e+02   ------   \n",
      "  1  +2.6141e+04  +2.6299e+04  6.05e-03  9.06e-17  4.31e-02  1.58e+02  1.80e+02  9.55e-01  \n",
      "  2  +1.3029e+04  +1.3057e+04  2.16e-03  7.43e-17  1.21e-02  2.82e+01  3.14e+01  8.50e-01  \n",
      "  3  +8.8765e+03  +8.9043e+03  3.12e-03  5.82e-15  6.65e-03  2.78e+01  3.05e+01  1.81e-01  \n",
      "  4  +3.5776e+03  +3.5844e+03  1.90e-03  7.78e-16  1.10e-03  6.82e+00  7.35e+00  8.02e-01  \n",
      "  5  +2.2168e+03  +2.2182e+03  6.73e-04  3.24e-15  2.13e-04  1.49e+00  1.57e+00  8.65e-01  \n",
      "  6  +1.9702e+03  +1.9707e+03  2.39e-04  1.55e-15  6.55e-05  4.71e-01  4.91e-01  7.31e-01  \n",
      "  7  +1.8918e+03  +1.8919e+03  7.95e-05  6.75e-16  2.07e-05  1.51e-01  1.56e-01  7.19e-01  \n",
      "  8  +1.8600e+03  +1.8601e+03  1.46e-05  2.13e-16  3.70e-06  2.72e-02  2.79e-02  8.69e-01  \n",
      "  9  +1.8538e+03  +1.8538e+03  2.10e-06  1.24e-16  5.30e-07  3.91e-03  4.00e-03  8.68e-01  \n",
      " 10  +1.8528e+03  +1.8528e+03  3.41e-08  7.69e-17  8.57e-09  6.34e-05  6.47e-05  9.86e-01  \n",
      " 11  +1.8528e+03  +1.8528e+03  3.42e-10  1.76e-15  8.57e-11  6.35e-07  6.48e-07  9.90e-01  \n",
      "---------------------------------------------------------------------------------------------\n",
      "Terminated with status = Solved\n",
      "solve time = 2.8734ms\n",
      "-------------------------------------------------------------------------------\n",
      "                                    Summary                                    \n",
      "-------------------------------------------------------------------------------\n",
      "(CVXPY) Sep 01 10:20:07 PM: Problem status: optimal\n",
      "(CVXPY) Sep 01 10:20:07 PM: Optimal value: 1.853e+03\n",
      "(CVXPY) Sep 01 10:20:07 PM: Compilation took 8.253e-03 seconds\n",
      "(CVXPY) Sep 01 10:20:07 PM: Solver (including time spent in interface) took 5.119e-03 seconds\n",
      "===============================================================================\n",
      "                                     CVXPY                                     \n",
      "                                     v1.5.3                                    \n",
      "===============================================================================\n",
      "(CVXPY) Sep 01 10:20:07 PM: Your problem has 100 variables, 400 constraints, and 0 parameters.\n",
      "(CVXPY) Sep 01 10:20:07 PM: It is compliant with the following grammars: DCP, DQCP\n",
      "(CVXPY) Sep 01 10:20:07 PM: (If you need to solve this problem multiple times, but with different data, consider using parameters.)\n",
      "(CVXPY) Sep 01 10:20:07 PM: CVXPY will first compile your problem; then, it will invoke a numerical solver to obtain a solution.\n",
      "(CVXPY) Sep 01 10:20:07 PM: Your problem is compiled with the CPP canonicalization backend.\n",
      "-------------------------------------------------------------------------------\n",
      "                                  Compilation                                  \n",
      "-------------------------------------------------------------------------------\n",
      "(CVXPY) Sep 01 10:20:07 PM: Compiling problem (target solver=CLARABEL).\n",
      "(CVXPY) Sep 01 10:20:07 PM: Reduction chain: FlipObjective -> Dcp2Cone -> CvxAttr2Constr -> ConeMatrixStuffing -> CLARABEL\n",
      "(CVXPY) Sep 01 10:20:07 PM: Applying reduction FlipObjective\n",
      "(CVXPY) Sep 01 10:20:07 PM: Applying reduction Dcp2Cone\n",
      "(CVXPY) Sep 01 10:20:07 PM: Applying reduction CvxAttr2Constr\n",
      "(CVXPY) Sep 01 10:20:07 PM: Applying reduction ConeMatrixStuffing\n",
      "(CVXPY) Sep 01 10:20:07 PM: Applying reduction CLARABEL\n",
      "(CVXPY) Sep 01 10:20:07 PM: Finished problem compilation (took 8.681e-03 seconds).\n",
      "-------------------------------------------------------------------------------\n",
      "                                Numerical solver                               \n",
      "-------------------------------------------------------------------------------\n",
      "(CVXPY) Sep 01 10:20:07 PM: Invoking solver CLARABEL  to obtain a solution.\n",
      "-------------------------------------------------------------\n",
      "           Clarabel.rs v0.9.0  -  Clever Acronym                \n",
      "\n",
      "                   (c) Paul Goulart                          \n",
      "                University of Oxford, 2022                   \n",
      "-------------------------------------------------------------\n",
      "\n",
      "problem:\n",
      "  variables     = 100\n",
      "  constraints   = 400\n",
      "  nnz(P)        = 0\n",
      "  nnz(A)        = 1020\n",
      "  cones (total) = 1\n",
      "    : Nonnegative = 1,  numel = 400\n",
      "\n",
      "settings:\n",
      "  linear algebra: direct / qdldl, precision: 64 bit\n",
      "  max iter = 200, time limit = Inf,  max step = 0.990\n",
      "  tol_feas = 1.0e-8, tol_gap_abs = 1.0e-8, tol_gap_rel = 1.0e-8,\n",
      "  static reg : on, ϵ1 = 1.0e-8, ϵ2 = 4.9e-32\n",
      "  dynamic reg: on, ϵ = 1.0e-13, δ = 2.0e-7\n",
      "  iter refine: on, reltol = 1.0e-13, abstol = 1.0e-12,\n",
      "               max iter = 10, stop ratio = 5.0\n",
      "  equilibrate: on, min_scale = 1.0e-4, max_scale = 1.0e4\n",
      "               max iter = 10\n",
      "\n",
      "iter    pcost        dcost       gap       pres      dres      k/t        μ       step      \n",
      "---------------------------------------------------------------------------------------------\n",
      "  0  -1.0405e+04  -2.8072e+04  1.70e+00  4.74e-01  1.46e-02  1.00e+00  2.46e+02   ------   \n",
      "  1  -1.0394e+04  -1.8082e+04  7.40e-01  2.73e-01  6.41e-03  2.15e+01  1.31e+02  5.72e-01  \n",
      "  2  -8.5784e+03  -1.4643e+04  7.07e-01  2.46e-01  5.82e-03  4.45e+01  8.54e+01  5.89e-01  \n",
      "  3  -6.6159e+03  -9.6099e+03  4.53e-01  1.50e-01  3.42e-03  3.51e+01  3.50e+01  6.53e-01  \n",
      "  4  -4.4681e+03  -6.2065e+03  3.89e-01  1.07e-01  2.47e-03  2.86e+01  1.55e+01  6.64e-01  \n",
      "  5  -2.6683e+03  -3.0259e+03  1.34e-01  2.70e-02  6.70e-04  4.82e+00  4.05e+00  9.29e-01  \n",
      "  6  -2.1473e+03  -2.2765e+03  6.02e-02  1.03e-02  2.59e-04  1.81e+00  1.76e+00  6.91e-01  \n",
      "  7  -1.9256e+03  -1.9566e+03  1.61e-02  2.51e-03  6.36e-05  4.32e-01  4.62e-01  7.75e-01  \n",
      "  8  -1.8786e+03  -1.8892e+03  5.65e-03  8.63e-04  2.18e-05  1.48e-01  1.61e-01  7.22e-01  \n",
      "  9  -1.8589e+03  -1.8614e+03  1.32e-03  2.01e-04  5.05e-06  3.40e-02  3.78e-02  8.25e-01  \n",
      " 10  -1.8535e+03  -1.8538e+03  1.59e-04  2.41e-05  6.05e-07  4.05e-03  4.54e-03  8.94e-01  \n",
      " 11  -1.8528e+03  -1.8528e+03  6.32e-06  9.55e-07  2.40e-08  1.60e-04  1.80e-04  9.65e-01  \n",
      " 12  -1.8528e+03  -1.8528e+03  6.32e-08  9.55e-09  2.40e-10  1.60e-06  1.80e-06  9.90e-01  \n",
      " 13  -1.8528e+03  -1.8528e+03  6.33e-10  9.55e-11  2.40e-12  1.60e-08  1.80e-08  9.90e-01  \n",
      "---------------------------------------------------------------------------------------------\n",
      "Terminated with status = Solved\n",
      "solve time = 1.944ms\n",
      "-------------------------------------------------------------------------------\n",
      "                                    Summary                                    \n",
      "-------------------------------------------------------------------------------\n",
      "(CVXPY) Sep 01 10:20:07 PM: Problem status: optimal\n",
      "(CVXPY) Sep 01 10:20:07 PM: Optimal value: 1.853e+03\n",
      "(CVXPY) Sep 01 10:20:07 PM: Compilation took 8.681e-03 seconds\n",
      "(CVXPY) Sep 01 10:20:07 PM: Solver (including time spent in interface) took 2.878e-03 seconds\n",
      "===============================================================================\n",
      "                                     CVXPY                                     \n",
      "                                     v1.5.3                                    \n",
      "===============================================================================\n",
      "(CVXPY) Sep 01 10:20:07 PM: Your problem has 500 variables, 401 constraints, and 0 parameters.\n",
      "(CVXPY) Sep 01 10:20:07 PM: It is compliant with the following grammars: DCP, DQCP\n",
      "(CVXPY) Sep 01 10:20:07 PM: (If you need to solve this problem multiple times, but with different data, consider using parameters.)\n",
      "(CVXPY) Sep 01 10:20:07 PM: CVXPY will first compile your problem; then, it will invoke a numerical solver to obtain a solution.\n",
      "(CVXPY) Sep 01 10:20:07 PM: Your problem is compiled with the CPP canonicalization backend.\n",
      "-------------------------------------------------------------------------------\n",
      "                                  Compilation                                  \n",
      "-------------------------------------------------------------------------------\n",
      "(CVXPY) Sep 01 10:20:07 PM: Compiling problem (target solver=CLARABEL).\n",
      "(CVXPY) Sep 01 10:20:07 PM: Reduction chain: Dcp2Cone -> CvxAttr2Constr -> ConeMatrixStuffing -> CLARABEL\n",
      "(CVXPY) Sep 01 10:20:07 PM: Applying reduction Dcp2Cone\n",
      "(CVXPY) Sep 01 10:20:07 PM: Applying reduction CvxAttr2Constr\n",
      "(CVXPY) Sep 01 10:20:07 PM: Applying reduction ConeMatrixStuffing\n",
      "(CVXPY) Sep 01 10:20:07 PM: Applying reduction CLARABEL\n",
      "(CVXPY) Sep 01 10:20:07 PM: Finished problem compilation (took 1.019e-02 seconds).\n",
      "-------------------------------------------------------------------------------\n",
      "                                Numerical solver                               \n",
      "-------------------------------------------------------------------------------\n",
      "(CVXPY) Sep 01 10:20:07 PM: Invoking solver CLARABEL  to obtain a solution.\n",
      "-------------------------------------------------------------\n",
      "           Clarabel.rs v0.9.0  -  Clever Acronym                \n",
      "\n",
      "                   (c) Paul Goulart                          \n",
      "                University of Oxford, 2022                   \n",
      "-------------------------------------------------------------\n",
      "\n",
      "problem:\n",
      "  variables     = 900\n",
      "  constraints   = 1201\n",
      "  nnz(P)        = 0\n",
      "  nnz(A)        = 3520\n",
      "  cones (total) = 2\n",
      "    :        Zero = 1,  numel = 1\n",
      "    : Nonnegative = 1,  numel = 1200\n",
      "\n",
      "settings:\n",
      "  linear algebra: direct / qdldl, precision: 64 bit\n",
      "  max iter = 200, time limit = Inf,  max step = 0.990\n",
      "  tol_feas = 1.0e-8, tol_gap_abs = 1.0e-8, tol_gap_rel = 1.0e-8,\n",
      "  static reg : on, ϵ1 = 1.0e-8, ϵ2 = 4.9e-32\n",
      "  dynamic reg: on, ϵ = 1.0e-13, δ = 2.0e-7\n",
      "  iter refine: on, reltol = 1.0e-13, abstol = 1.0e-12,\n",
      "               max iter = 10, stop ratio = 5.0\n",
      "  equilibrate: on, min_scale = 1.0e-4, max_scale = 1.0e4\n",
      "               max iter = 10\n",
      "\n",
      "iter    pcost        dcost       gap       pres      dres      k/t        μ       step      \n",
      "---------------------------------------------------------------------------------------------\n",
      "  0  +0.0000e+00  -0.0000e+00  0.00e+00  1.74e-02  1.63e-03  1.00e+00  3.13e+01   ------   \n",
      "  1  +3.7740e+02  +3.7966e+02  6.01e-03  7.71e-03  7.23e-04  2.48e+00  1.21e+01  7.49e-01  \n",
      "  2  +2.0574e+02  +2.0747e+02  8.45e-03  3.19e-03  2.97e-04  1.87e+00  8.04e+00  4.51e-01  \n",
      "  3  +1.7955e+02  +1.8118e+02  9.04e-03  3.32e-03  3.10e-04  1.73e+00  6.97e+00  2.64e-01  \n",
      "  4  +1.0621e+02  +1.0720e+02  9.32e-03  2.17e-03  2.03e-04  1.05e+00  4.33e+00  4.30e-01  \n",
      "  5  +4.6491e+01  +4.6935e+01  9.55e-03  1.08e-03  1.01e-04  4.72e-01  2.01e+00  6.62e-01  \n",
      "  6  +8.8327e+00  +8.9250e+00  1.04e-02  3.99e-04  3.80e-05  9.85e-02  4.80e-01  7.92e-01  \n",
      "  7  -1.0456e-01  -9.1084e-02  1.35e-02  7.32e-04  1.11e-04  1.46e-02  8.98e-02  8.92e-01  \n",
      "  8  +4.9175e-01  +5.0521e-01  1.35e-02  4.29e-04  5.12e-05  1.45e-02  8.86e-02  7.24e-02  \n",
      "  9  +4.4063e-01  +4.4440e-01  3.76e-03  1.65e-04  2.20e-05  4.07e-03  2.50e-02  8.63e-01  \n",
      " 10  +4.6577e-02  +4.7065e-02  4.89e-04  2.73e-05  4.11e-06  5.29e-04  3.35e-03  8.95e-01  \n",
      " 11  +5.6434e-03  +5.7081e-03  6.47e-05  3.66e-06  5.51e-07  7.02e-05  4.48e-04  8.89e-01  \n",
      " 12  +1.6561e-04  +1.6766e-04  2.05e-06  1.17e-07  1.76e-08  2.22e-06  1.43e-05  9.72e-01  \n",
      " 13  +6.0709e-06  +6.1207e-06  4.98e-08  2.68e-09  4.02e-10  5.37e-08  3.27e-07  9.77e-01  \n",
      " 14  +4.6404e-06  +4.6483e-06  7.89e-09  2.40e-10  1.86e-11  8.08e-09  3.57e-08  9.90e-01  \n",
      "---------------------------------------------------------------------------------------------\n",
      "Terminated with status = Solved\n",
      "solve time = 9.6098ms\n",
      "-------------------------------------------------------------------------------\n",
      "                                    Summary                                    \n",
      "-------------------------------------------------------------------------------\n",
      "(CVXPY) Sep 01 10:20:07 PM: Problem status: optimal\n",
      "(CVXPY) Sep 01 10:20:07 PM: Optimal value: 3.169e-07\n",
      "(CVXPY) Sep 01 10:20:07 PM: Compilation took 1.019e-02 seconds\n",
      "(CVXPY) Sep 01 10:20:07 PM: Solver (including time spent in interface) took 1.215e-02 seconds\n",
      "||c_IRL - c_true|| = 1.8265895583489572e-07\n",
      "||u_IRL - u_true|| = 7.336387368287675e-05\n"
     ]
    }
   ],
   "source": [
    "gridworld = GridWorld(grid, obstacles, goal, actions, transitions, init_dist, cost, gamma)\n",
    "u_true = sanity_check(gridworld, cost)"
   ]
  },
  {
   "cell_type": "markdown",
   "metadata": {},
   "source": [
    "### Exploration"
   ]
  },
  {
   "cell_type": "code",
   "execution_count": 40,
   "metadata": {},
   "outputs": [],
   "source": [
    "def cost_prime(s, a, goal, obstacles):\n",
    "    r = 10\n",
    "    if s[0] in obstacles[0] and s[1] in obstacles[1]:\n",
    "        r = 5\n",
    "    elif s[0] in goal[0] and s[1] in goal[1]:\n",
    "        r = 0\n",
    "    return r"
   ]
  },
  {
   "cell_type": "code",
   "execution_count": 41,
   "metadata": {},
   "outputs": [],
   "source": [
    "gridworld = GridWorld(grid, obstacles, goal, actions, transitions, init_dist, cost, gamma, mu_e.value, cost_prime)\n",
    "gridworld.get_mdp_app(transform=False)\n",
    "gridworld.mdp_app.build_T()"
   ]
  },
  {
   "cell_type": "code",
   "execution_count": 42,
   "metadata": {},
   "outputs": [
    {
     "name": "stdout",
     "output_type": "stream",
     "text": [
      "===============================================================================\n",
      "                                     CVXPY                                     \n",
      "                                     v1.5.3                                    \n",
      "===============================================================================\n",
      "(CVXPY) Sep 01 10:20:08 PM: Your problem has 500 variables, 400 constraints, and 0 parameters.\n",
      "(CVXPY) Sep 01 10:20:08 PM: It is compliant with the following grammars: DCP, DQCP\n",
      "(CVXPY) Sep 01 10:20:08 PM: (If you need to solve this problem multiple times, but with different data, consider using parameters.)\n",
      "(CVXPY) Sep 01 10:20:08 PM: CVXPY will first compile your problem; then, it will invoke a numerical solver to obtain a solution.\n",
      "(CVXPY) Sep 01 10:20:08 PM: Your problem is compiled with the CPP canonicalization backend.\n",
      "-------------------------------------------------------------------------------\n",
      "                                  Compilation                                  \n",
      "-------------------------------------------------------------------------------\n",
      "(CVXPY) Sep 01 10:20:08 PM: Compiling problem (target solver=CLARABEL).\n",
      "(CVXPY) Sep 01 10:20:08 PM: Reduction chain: Dcp2Cone -> CvxAttr2Constr -> ConeMatrixStuffing -> CLARABEL\n",
      "(CVXPY) Sep 01 10:20:08 PM: Applying reduction Dcp2Cone\n",
      "(CVXPY) Sep 01 10:20:08 PM: Applying reduction CvxAttr2Constr\n",
      "(CVXPY) Sep 01 10:20:08 PM: Applying reduction ConeMatrixStuffing\n",
      "(CVXPY) Sep 01 10:20:08 PM: Applying reduction CLARABEL\n",
      "(CVXPY) Sep 01 10:20:08 PM: Finished problem compilation (took 1.150e-02 seconds).\n",
      "-------------------------------------------------------------------------------\n",
      "                                Numerical solver                               \n",
      "-------------------------------------------------------------------------------\n",
      "(CVXPY) Sep 01 10:20:08 PM: Invoking solver CLARABEL  to obtain a solution.\n",
      "-------------------------------------------------------------\n",
      "           Clarabel.rs v0.9.0  -  Clever Acronym                \n",
      "\n",
      "                   (c) Paul Goulart                          \n",
      "                University of Oxford, 2022                   \n",
      "-------------------------------------------------------------\n",
      "\n",
      "problem:\n",
      "  variables     = 900\n",
      "  constraints   = 1200\n",
      "  nnz(P)        = 0\n",
      "  nnz(A)        = 3020\n",
      "  cones (total) = 1\n",
      "    : Nonnegative = 1,  numel = 1200\n",
      "\n",
      "settings:\n",
      "  linear algebra: direct / qdldl, precision: 64 bit\n",
      "  max iter = 200, time limit = Inf,  max step = 0.990\n",
      "  tol_feas = 1.0e-8, tol_gap_abs = 1.0e-8, tol_gap_rel = 1.0e-8,\n",
      "  static reg : on, ϵ1 = 1.0e-8, ϵ2 = 4.9e-32\n",
      "  dynamic reg: on, ϵ = 1.0e-13, δ = 2.0e-7\n",
      "  iter refine: on, reltol = 1.0e-13, abstol = 1.0e-12,\n",
      "               max iter = 10, stop ratio = 5.0\n",
      "  equilibrate: on, min_scale = 1.0e-4, max_scale = 1.0e4\n",
      "               max iter = 10\n",
      "\n",
      "iter    pcost        dcost       gap       pres      dres      k/t        μ       step      \n",
      "---------------------------------------------------------------------------------------------\n",
      "  0  -5.5799e+04  -5.5799e+04  5.88e-14  2.81e-02  9.84e-01  1.00e+00  9.72e+03   ------   \n",
      "  1  +4.2928e+03  +5.5658e+03  2.97e-01  1.50e-02  5.41e-01  1.27e+03  1.31e+03  9.90e-01  \n",
      "  2  +4.3473e+03  +4.5032e+03  3.59e-02  1.46e-03  1.06e-01  1.56e+02  4.32e+02  7.10e-01  \n",
      "  3  +1.9892e+03  +2.0683e+03  3.97e-02  4.00e-04  3.53e-02  7.91e+01  2.68e+02  5.34e-01  \n",
      "  4  +9.1095e+02  +9.2716e+02  1.78e-02  8.68e-05  8.37e-03  1.62e+01  1.14e+02  6.36e-01  \n",
      "  5  +4.0916e+02  +4.1289e+02  9.10e-03  2.25e-05  2.27e-03  3.72e+00  5.69e+01  6.06e-01  \n",
      "  6  +2.3301e+02  +2.3403e+02  4.37e-03  5.57e-06  5.68e-04  1.02e+00  2.09e+01  6.90e-01  \n",
      "  7  +2.1627e+02  +2.1713e+02  3.97e-03  4.91e-06  4.90e-04  8.59e-01  1.54e+01  3.89e-01  \n",
      "  8  +1.9554e+02  +1.9620e+02  3.38e-03  4.25e-06  4.11e-04  6.61e-01  1.06e+01  4.69e-01  \n",
      "  9  +1.8316e+02  +1.8363e+02  2.57e-03  3.50e-06  3.38e-04  4.72e-01  8.82e+00  2.89e-01  \n",
      " 10  +1.6327e+02  +1.6356e+02  1.78e-03  2.46e-06  2.36e-04  2.90e-01  6.01e+00  4.27e-01  \n",
      " 11  +1.5294e+02  +1.5314e+02  1.30e-03  1.91e-06  1.83e-04  1.98e-01  4.55e+00  3.63e-01  \n",
      " 12  +1.4904e+02  +1.4920e+02  1.06e-03  1.68e-06  1.60e-04  1.58e-01  3.85e+00  2.90e-01  \n",
      " 13  +1.4138e+02  +1.4148e+02  6.73e-04  1.30e-06  1.21e-04  9.52e-02  2.51e+00  6.27e-01  \n",
      " 14  +1.4002e+02  +1.4010e+02  5.68e-04  1.22e-06  1.14e-04  7.96e-02  2.42e+00  1.92e-01  \n",
      " 15  +1.3458e+02  +1.3464e+02  5.00e-04  1.05e-06  9.59e-05  6.73e-02  1.84e+00  3.04e-01  \n",
      " 16  +1.3190e+02  +1.3194e+02  3.31e-04  8.80e-07  8.11e-05  4.37e-02  1.62e+00  5.02e-01  \n",
      " 17  +1.2570e+02  +1.2573e+02  2.55e-04  6.88e-07  6.27e-05  3.20e-02  1.19e+00  3.95e-01  \n",
      " 18  +1.2221e+02  +1.2223e+02  1.93e-04  5.74e-07  5.16e-05  2.35e-02  9.22e-01  5.75e-01  \n",
      " 19  +1.1926e+02  +1.1928e+02  1.60e-04  4.72e-07  4.23e-05  1.91e-02  7.39e-01  3.03e-01  \n",
      " 20  +1.1637e+02  +1.1639e+02  1.32e-04  3.85e-07  3.39e-05  1.54e-02  5.44e-01  4.54e-01  \n",
      " 21  +1.1569e+02  +1.1570e+02  1.23e-04  3.57e-07  3.14e-05  1.43e-02  5.10e-01  1.47e-01  \n",
      " 22  +1.1021e+02  +1.1022e+02  6.20e-05  1.77e-07  1.57e-05  6.83e-03  2.60e-01  6.68e-01  \n",
      " 23  +1.0583e+02  +1.0583e+02  1.54e-05  4.35e-08  3.82e-06  1.63e-03  6.23e-02  7.95e-01  \n",
      " 24  +1.0456e+02  +1.0456e+02  1.45e-06  3.66e-09  3.21e-07  1.52e-04  5.21e-03  9.90e-01  \n",
      " 25  +1.0443e+02  +1.0443e+02  1.75e-08  4.40e-11  3.87e-09  1.83e-06  6.27e-05  9.88e-01  \n",
      " 26  +1.0443e+02  +1.0443e+02  1.96e-10  4.94e-13  4.34e-11  2.05e-08  7.04e-07  9.89e-01  \n",
      "---------------------------------------------------------------------------------------------\n",
      "Terminated with status = Solved\n",
      "solve time = 13.132ms\n",
      "-------------------------------------------------------------------------------\n",
      "                                    Summary                                    \n",
      "-------------------------------------------------------------------------------\n",
      "(CVXPY) Sep 01 10:20:08 PM: Problem status: optimal\n",
      "(CVXPY) Sep 01 10:20:08 PM: Optimal value: 1.044e+02\n",
      "(CVXPY) Sep 01 10:20:08 PM: Compilation took 1.150e-02 seconds\n",
      "(CVXPY) Sep 01 10:20:08 PM: Solver (including time spent in interface) took 1.565e-02 seconds\n"
     ]
    }
   ],
   "source": [
    "solver = SolverApp(gridworld.mdp_app, gridworld.c_hat, gridworld.mdp_app.mu_e)\n",
    "prob, c_exp, u_exp = solver.solve()"
   ]
  },
  {
   "cell_type": "code",
   "execution_count": 43,
   "metadata": {},
   "outputs": [],
   "source": [
    "c_reconstructed = np.zeros((n, n, len(actions)))\n",
    "for i in range(len(c_exp.value)):    \n",
    "    c_reconstructed[gridworld.S_to_grid[i % n**2][0], \n",
    "                    gridworld.S_to_grid[i % n**2][1], \n",
    "                    int(i / n**2)\n",
    "                    ] = c_exp.value[i]"
   ]
  },
  {
   "cell_type": "code",
   "execution_count": 44,
   "metadata": {},
   "outputs": [
    {
     "name": "stdout",
     "output_type": "stream",
     "text": [
      "UP\n"
     ]
    },
    {
     "data": {
      "image/png": "[encoded data removed]",
      "text/plain": [
       "<Figure size 480x480 with 1 Axes>"
      ]
     },
     "metadata": {},
     "output_type": "display_data"
    },
    {
     "name": "stdout",
     "output_type": "stream",
     "text": [
      "DOWN\n"
     ]
    },
    {
     "data": {
      "image/png": "[encoded data removed]",
      "text/plain": [
       "<Figure size 480x480 with 1 Axes>"
      ]
     },
     "metadata": {},
     "output_type": "display_data"
    },
    {
     "name": "stdout",
     "output_type": "stream",
     "text": [
      "LEFT\n"
     ]
    },
    {
     "data": {
      "image/png": "[encoded data removed]",
      "text/plain": [
       "<Figure size 480x480 with 1 Axes>"
      ]
     },
     "metadata": {},
     "output_type": "display_data"
    },
    {
     "name": "stdout",
     "output_type": "stream",
     "text": [
      "RIGHT\n"
     ]
    },
    {
     "data": {
      "image/png": "[encoded data removed]",
      "text/plain": [
       "<Figure size 480x480 with 1 Axes>"
      ]
     },
     "metadata": {},
     "output_type": "display_data"
    }
   ],
   "source": [
    "print(\"UP\")\n",
    "plot_cost_function(c_reconstructed[:, :, 0])\n",
    "print(\"DOWN\")\n",
    "plot_cost_function(c_reconstructed[:, :, 1])\n",
    "print(\"LEFT\")\n",
    "plot_cost_function(c_reconstructed[:, :, 2])\n",
    "print(\"RIGHT\")\n",
    "plot_cost_function(c_reconstructed[:, :, 3])"
   ]
  },
  {
   "cell_type": "code",
   "execution_count": 55,
   "metadata": {},
   "outputs": [
    {
     "name": "stdout",
     "output_type": "stream",
     "text": [
      "|| c_exp - c_true || =  557.5935096845861\n",
      "|| c_exp - c_hat || =  23.155473902503275\n",
      "|| u_exp - u_true || =  6611.704217645452\n"
     ]
    }
   ],
   "source": [
    "print(\"|| c_exp - c_true || = \", np.linalg.norm(c_exp.value - gridworld.c))\n",
    "print(\"|| c_exp - c_hat || = \", np.linalg.norm(c_exp.value - gridworld.c_hat))\n",
    "print(\"|| u_exp - u_true || = \", np.linalg.norm(u_exp.value - u_true))"
   ]
  },
  {
   "cell_type": "markdown",
   "metadata": {},
   "source": [
    "### Inverse Optimization for Cost Function"
   ]
  },
  {
   "cell_type": "code",
   "execution_count": 46,
   "metadata": {},
   "outputs": [],
   "source": [
    "gridworld = GridWorld(grid, obstacles, goal, actions, transitions, init_dist, cost, gamma, mu_e.value, cost_prime)\n",
    "gridworld.get_mdp_IRL(transform=False)\n",
    "gridworld.mdp_IRL.build_T()"
   ]
  },
  {
   "cell_type": "code",
   "execution_count": 47,
   "metadata": {},
   "outputs": [
    {
     "name": "stdout",
     "output_type": "stream",
     "text": [
      "===============================================================================\n",
      "                                     CVXPY                                     \n",
      "                                     v1.5.3                                    \n",
      "===============================================================================\n",
      "(CVXPY) Sep 01 10:20:08 PM: Your problem has 500 variables, 401 constraints, and 0 parameters.\n",
      "(CVXPY) Sep 01 10:20:08 PM: It is compliant with the following grammars: DCP, DQCP\n",
      "(CVXPY) Sep 01 10:20:08 PM: (If you need to solve this problem multiple times, but with different data, consider using parameters.)\n",
      "(CVXPY) Sep 01 10:20:08 PM: CVXPY will first compile your problem; then, it will invoke a numerical solver to obtain a solution.\n",
      "(CVXPY) Sep 01 10:20:08 PM: Your problem is compiled with the CPP canonicalization backend.\n",
      "-------------------------------------------------------------------------------\n",
      "                                  Compilation                                  \n",
      "-------------------------------------------------------------------------------\n",
      "(CVXPY) Sep 01 10:20:08 PM: Compiling problem (target solver=CLARABEL).\n",
      "(CVXPY) Sep 01 10:20:08 PM: Reduction chain: Dcp2Cone -> CvxAttr2Constr -> ConeMatrixStuffing -> CLARABEL\n",
      "(CVXPY) Sep 01 10:20:08 PM: Applying reduction Dcp2Cone\n",
      "(CVXPY) Sep 01 10:20:08 PM: Applying reduction CvxAttr2Constr\n",
      "(CVXPY) Sep 01 10:20:08 PM: Applying reduction ConeMatrixStuffing\n",
      "(CVXPY) Sep 01 10:20:08 PM: Applying reduction CLARABEL\n",
      "(CVXPY) Sep 01 10:20:08 PM: Finished problem compilation (took 1.583e-02 seconds).\n",
      "-------------------------------------------------------------------------------\n",
      "                                Numerical solver                               \n",
      "-------------------------------------------------------------------------------\n",
      "(CVXPY) Sep 01 10:20:08 PM: Invoking solver CLARABEL  to obtain a solution.\n",
      "-------------------------------------------------------------\n",
      "           Clarabel.rs v0.9.0  -  Clever Acronym                \n",
      "\n",
      "                   (c) Paul Goulart                          \n",
      "                University of Oxford, 2022                   \n",
      "-------------------------------------------------------------\n",
      "\n",
      "problem:\n",
      "  variables     = 900\n",
      "  constraints   = 1201\n",
      "  nnz(P)        = 0\n",
      "  nnz(A)        = 3520\n",
      "  cones (total) = 2\n",
      "    :        Zero = 1,  numel = 1\n",
      "    : Nonnegative = 1,  numel = 1200\n",
      "\n",
      "settings:\n",
      "  linear algebra: direct / qdldl, precision: 64 bit\n",
      "  max iter = 200, time limit = Inf,  max step = 0.990\n",
      "  tol_feas = 1.0e-8, tol_gap_abs = 1.0e-8, tol_gap_rel = 1.0e-8,\n",
      "  static reg : on, ϵ1 = 1.0e-8, ϵ2 = 4.9e-32\n",
      "  dynamic reg: on, ϵ = 1.0e-13, δ = 2.0e-7\n",
      "  iter refine: on, reltol = 1.0e-13, abstol = 1.0e-12,\n",
      "               max iter = 10, stop ratio = 5.0\n",
      "  equilibrate: on, min_scale = 1.0e-4, max_scale = 1.0e4\n",
      "               max iter = 10\n",
      "\n",
      "iter    pcost        dcost       gap       pres      dres      k/t        μ       step      \n",
      "---------------------------------------------------------------------------------------------\n",
      "  0  +0.0000e+00  -0.0000e+00  0.00e+00  7.50e-03  1.49e-03  1.00e+00  1.45e+01   ------   \n",
      "  1  +5.8071e+01  +5.9835e+01  3.04e-02  2.84e-03  5.63e-04  1.98e+00  6.24e+00  7.91e-01  \n",
      "  2  +5.3843e+01  +5.5539e+01  3.15e-02  2.69e-03  5.33e-04  1.88e+00  5.39e+00  2.88e-01  \n",
      "  3  +5.8098e+01  +5.9626e+01  2.63e-02  2.22e-03  4.39e-04  1.69e+00  4.65e+00  2.27e-01  \n",
      "  4  +6.0483e+01  +6.1580e+01  1.81e-02  1.53e-03  3.02e-04  1.20e+00  3.22e+00  3.83e-01  \n",
      "  5  +6.8023e+01  +6.8711e+01  1.01e-02  9.53e-04  1.88e-04  7.49e-01  1.84e+00  4.95e-01  \n",
      "  6  +7.4916e+01  +7.5421e+01  6.73e-03  7.81e-04  1.54e-04  5.47e-01  1.21e+00  4.04e-01  \n",
      "  7  +7.6671e+01  +7.7050e+01  4.95e-03  7.66e-04  1.51e-04  4.11e-01  8.08e-01  4.33e-01  \n",
      "  8  +7.4919e+01  +7.5132e+01  2.85e-03  6.41e-04  1.26e-04  2.35e-01  5.20e-01  7.17e-01  \n",
      "  9  +7.3751e+01  +7.3906e+01  2.10e-03  5.95e-04  1.16e-04  1.70e-01  3.37e-01  4.57e-01  \n",
      " 10  +7.5288e+01  +7.5413e+01  1.66e-03  4.98e-04  9.60e-05  1.37e-01  2.50e-01  4.18e-01  \n",
      " 11  +7.9258e+01  +7.9351e+01  1.17e-03  3.20e-04  6.09e-05  1.03e-01  1.73e-01  8.22e-01  \n",
      " 12  +8.1580e+01  +8.1664e+01  1.03e-03  2.65e-04  5.02e-05  9.27e-02  1.44e-01  2.96e-01  \n",
      " 13  +8.0991e+01  +8.1066e+01  9.21e-04  2.14e-04  4.06e-05  8.24e-02  1.33e-01  2.38e-01  \n",
      " 14  +8.2883e+01  +8.2954e+01  8.59e-04  1.70e-04  3.22e-05  7.84e-02  1.15e-01  3.66e-01  \n",
      " 15  +8.5847e+01  +8.5916e+01  8.07e-04  1.62e-04  3.05e-05  7.59e-02  1.00e-01  2.42e-01  \n",
      " 16  +8.9690e+01  +8.9756e+01  7.28e-04  1.35e-04  2.52e-05  7.11e-02  7.93e-02  5.44e-01  \n",
      " 17  +8.8058e+01  +8.8109e+01  5.83e-04  8.95e-05  1.68e-05  5.62e-02  6.87e-02  3.53e-01  \n",
      " 18  +9.1641e+01  +9.1669e+01  3.04e-04  3.47e-05  6.55e-06  3.04e-02  3.41e-02  5.66e-01  \n",
      " 19  +9.4466e+01  +9.4492e+01  2.74e-04  2.52e-05  4.72e-06  2.78e-02  2.22e-02  6.35e-01  \n",
      " 20  +9.6419e+01  +9.6446e+01  2.80e-04  2.41e-05  4.47e-06  2.88e-02  1.89e-02  2.91e-01  \n",
      " 21  +9.6649e+01  +9.6676e+01  2.79e-04  2.38e-05  4.40e-06  2.87e-02  1.83e-02  1.06e-01  \n",
      " 22  +9.6450e+01  +9.6470e+01  2.04e-04  2.00e-05  3.72e-06  2.10e-02  1.61e-02  6.84e-01  \n",
      " 23  +1.0029e+02  +1.0030e+02  1.29e-04  9.74e-06  1.79e-06  1.37e-02  7.30e-03  6.77e-01  \n",
      " 24  +1.0089e+02  +1.0090e+02  8.34e-05  6.02e-06  1.11e-06  8.89e-03  4.63e-03  4.79e-01  \n",
      " 25  +1.0143e+02  +1.0143e+02  6.43e-05  4.10e-06  7.53e-07  6.85e-03  3.02e-03  6.42e-01  \n",
      " 26  +1.0189e+02  +1.0190e+02  6.39e-05  3.79e-06  6.90e-07  6.81e-03  2.56e-03  2.26e-01  \n",
      " 27  +1.0196e+02  +1.0197e+02  5.98e-05  3.54e-06  6.43e-07  6.39e-03  2.38e-03  3.26e-01  \n",
      " 28  +1.0207e+02  +1.0208e+02  5.03e-05  3.05e-06  5.56e-07  5.38e-03  2.09e-03  2.16e-01  \n",
      " 29  +1.0248e+02  +1.0249e+02  4.94e-05  2.66e-06  4.80e-07  5.28e-03  1.64e-03  7.39e-01  \n",
      " 30  +1.0283e+02  +1.0284e+02  4.44e-05  2.25e-06  4.02e-07  4.75e-03  1.28e-03  3.04e-01  \n",
      " 31  +1.0296e+02  +1.0296e+02  4.47e-05  2.19e-06  3.89e-07  4.78e-03  1.20e-03  2.05e-01  \n",
      " 32  +1.0318e+02  +1.0318e+02  4.70e-05  2.20e-06  3.87e-07  5.03e-03  1.10e-03  5.41e-01  \n",
      " 33  +1.0308e+02  +1.0309e+02  3.40e-05  1.82e-06  3.26e-07  3.65e-03  1.03e-03  2.21e-01  \n",
      " 34  +1.0321e+02  +1.0322e+02  3.04e-05  1.60e-06  2.85e-07  3.27e-03  8.91e-04  3.18e-01  \n",
      " 35  +1.0390e+02  +1.0390e+02  1.63e-05  7.79e-07  1.37e-07  1.76e-03  3.97e-04  8.12e-01  \n",
      " 36  +1.0401e+02  +1.0402e+02  1.31e-05  5.98e-07  1.05e-07  1.41e-03  3.03e-04  4.34e-01  \n",
      " 37  +1.0416e+02  +1.0416e+02  9.03e-06  3.77e-07  6.63e-08  9.71e-04  1.90e-04  7.78e-01  \n",
      " 38  +1.0441e+02  +1.0441e+02  5.16e-07  2.27e-08  3.99e-09  5.57e-05  1.13e-05  9.53e-01  \n",
      " 39  +1.0443e+02  +1.0443e+02  9.52e-09  4.20e-10  7.37e-11  1.03e-06  2.09e-07  9.82e-01  \n",
      "---------------------------------------------------------------------------------------------\n",
      "Terminated with status = Solved\n",
      "solve time = 24.2112ms\n",
      "-------------------------------------------------------------------------------\n",
      "                                    Summary                                    \n",
      "-------------------------------------------------------------------------------\n",
      "(CVXPY) Sep 01 10:20:08 PM: Problem status: optimal\n",
      "(CVXPY) Sep 01 10:20:08 PM: Optimal value: 1.044e+02\n",
      "(CVXPY) Sep 01 10:20:08 PM: Compilation took 1.583e-02 seconds\n",
      "(CVXPY) Sep 01 10:20:08 PM: Solver (including time spent in interface) took 2.425e-02 seconds\n"
     ]
    }
   ],
   "source": [
    "solver = SolverIRL(gridworld.mdp_IRL, gridworld.c_hat, gridworld.mdp_IRL.mu_e)\n",
    "prob, c_IRL, u_IRL = solver.solve()"
   ]
  },
  {
   "cell_type": "code",
   "execution_count": 48,
   "metadata": {},
   "outputs": [],
   "source": [
    "c_reconstructed = np.zeros((n, n, len(actions)))\n",
    "for i in range(len(c_IRL.value)):    \n",
    "    c_reconstructed[gridworld.S_to_grid[i % n**2][0], \n",
    "                    gridworld.S_to_grid[i % n**2][1], \n",
    "                    int(i / n**2)\n",
    "                    ] = c_IRL.value[i]\n",
    "u_reconstructed = np.zeros((n, n))\n",
    "for i in range(len(u_IRL.value)):\n",
    "    u_reconstructed[gridworld.S_to_grid[i][0], gridworld.S_to_grid[i][1]] = u_IRL.value[i]"
   ]
  },
  {
   "cell_type": "code",
   "execution_count": 49,
   "metadata": {},
   "outputs": [
    {
     "name": "stdout",
     "output_type": "stream",
     "text": [
      "UP\n"
     ]
    },
    {
     "data": {
      "image/png": "[encoded data removed]",
      "text/plain": [
       "<Figure size 480x480 with 1 Axes>"
      ]
     },
     "metadata": {},
     "output_type": "display_data"
    },
    {
     "name": "stdout",
     "output_type": "stream",
     "text": [
      "DOWN\n"
     ]
    },
    {
     "data": {
      "image/png": "[encoded data removed]",
      "text/plain": [
       "<Figure size 480x480 with 1 Axes>"
      ]
     },
     "metadata": {},
     "output_type": "display_data"
    },
    {
     "name": "stdout",
     "output_type": "stream",
     "text": [
      "LEFT\n"
     ]
    },
    {
     "data": {
      "image/png": "[encoded data removed]",
      "text/plain": [
       "<Figure size 480x480 with 1 Axes>"
      ]
     },
     "metadata": {},
     "output_type": "display_data"
    },
    {
     "name": "stdout",
     "output_type": "stream",
     "text": [
      "RIGHT\n"
     ]
    },
    {
     "data": {
      "image/png": "[encoded data removed]",
      "text/plain": [
       "<Figure size 480x480 with 1 Axes>"
      ]
     },
     "metadata": {},
     "output_type": "display_data"
    }
   ],
   "source": [
    "print(\"UP\")\n",
    "plot_cost_function(c_reconstructed[:, :, 0])\n",
    "print(\"DOWN\")\n",
    "plot_cost_function(c_reconstructed[:, :, 1])\n",
    "print(\"LEFT\")\n",
    "plot_cost_function(c_reconstructed[:, :, 2])\n",
    "print(\"RIGHT\")\n",
    "plot_cost_function(c_reconstructed[:, :, 3])"
   ]
  },
  {
   "cell_type": "code",
   "execution_count": 58,
   "metadata": {},
   "outputs": [
    {
     "name": "stdout",
     "output_type": "stream",
     "text": [
      "App problem\n",
      "|| c_exp - c_true || =  557.5935096845861\n",
      "|| c_exp - c_hat || =  23.155473902503275\n",
      "|| u_exp - u_true || =  6611.704217645452\n",
      " \n",
      "IRL problem\n",
      "|| c_IRL - c_true || =  558.0116296052762\n",
      "|| c_IRL - c_hat || =  23.37564168062308\n",
      "|| u_IRL - u_true || =  6611.70250318679\n",
      " \n",
      "Comparison with the app problem\n",
      "|| c_IRL - c_exp || =  2.401093801936701\n",
      "|| u_IRL - u_exp || =  0.0017265077060680187\n"
     ]
    }
   ],
   "source": [
    "print(\"App problem\")\n",
    "print(\"|| c_exp - c_true || = \", np.linalg.norm(c_exp.value - gridworld.c))\n",
    "print(\"|| c_exp - c_hat || = \", np.linalg.norm(c_exp.value - gridworld.c_hat))\n",
    "print(\"|| u_exp - u_true || = \", np.linalg.norm(u_exp.value - u_true))\n",
    "print(\" \")\n",
    "\n",
    "print(\"IRL problem\")\n",
    "print(\"|| c_IRL - c_true || = \", np.linalg.norm(c_IRL.value - gridworld.c))\n",
    "print(\"|| c_IRL - c_hat || = \", np.linalg.norm(c_IRL.value - gridworld.c_hat))\n",
    "print(\"|| u_IRL - u_true || = \", np.linalg.norm(u_IRL.value - u_true))\n",
    "print(\" \")\n",
    "## Compare with the app problem ###\n",
    "print(\"Comparison with the app problem\")\n",
    "print(\"|| c_IRL - c_exp || = \", np.linalg.norm(c_IRL.value - c_exp.value))\n",
    "print(\"|| u_IRL - u_exp || = \", np.linalg.norm(u_IRL.value - u_exp.value))\n"
   ]
  }
 ],
 "metadata": {
  "kernelspec": {
   "display_name": "venv",
   "language": "python",
   "name": "python3"
  },
  "language_info": {
   "codemirror_mode": {
    "name": "ipython",
    "version": 3
   },
   "file_extension": ".py",
   "mimetype": "text/x-python",
   "name": "python",
   "nbconvert_exporter": "python",
   "pygments_lexer": "ipython3",
   "version": "3.10.11"
  }
 },
 "nbformat": 4,
 "nbformat_minor": 2
}
