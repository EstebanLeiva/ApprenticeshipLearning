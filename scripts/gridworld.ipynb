{
 "cells": [
  {
   "cell_type": "code",
   "execution_count": 36,
   "metadata": {},
   "outputs": [],
   "source": [
    "import numpy as np\n",
    "from apprenticheshiplearning.utils.gridworld import plot_gridworld, plot_cost_function, plot_occupation\n",
    "from apprenticheshiplearning.problems.gridworld import GridWorld\n",
    "from apprenticheshiplearning.classes.solver import Solver"
   ]
  },
  {
   "cell_type": "code",
   "execution_count": 37,
   "metadata": {},
   "outputs": [],
   "source": [
    "# Parameters\n",
    "n = 10\n",
    "wind_intensity = 0.3 # between 0 and 1\n",
    "gamma = 0.9"
   ]
  },
  {
   "cell_type": "code",
   "execution_count": 38,
   "metadata": {},
   "outputs": [],
   "source": [
    "grid = np.zeros((n, n))\n",
    "goal = [                    \n",
    "        [n-1, n-2], \n",
    "        [n-1]\n",
    "        ]\n",
    "obstacles = [\n",
    "                [int(n/2)],\n",
    "                [i for  i in range(0,int(n/1.2))]\n",
    "            ]\n",
    "actions = [\"up\", \"down\", \"left\", \"right\"]\n",
    "init_dist = np.ones((n,n)) / n**2\n"
   ]
  },
  {
   "cell_type": "code",
   "execution_count": 39,
   "metadata": {},
   "outputs": [
    {
     "data": {
      "image/png": "[encoded data removed]",
      "text/plain": [
       "<Figure size 640x480 with 1 Axes>"
      ]
     },
     "metadata": {},
     "output_type": "display_data"
    }
   ],
   "source": [
    "plot_gridworld(grid, obstacles, goal)"
   ]
  },
  {
   "cell_type": "code",
   "execution_count": 40,
   "metadata": {},
   "outputs": [],
   "source": [
    "def transitions(s1, s , a, goal): #go from s to s1 with action a\n",
    "    if a == \"up\":\n",
    "        if s[0] in goal[0] and s[1] in goal[1]:\n",
    "            if s1[0] == s[0] and s1[1] == s[0]:\n",
    "                return 1\n",
    "            else: \n",
    "                return 0\n",
    "        elif s[0] != 0 and s[1] == n - 1:\n",
    "            if s1[0] == s[0] and s1[1] == s[1]:\n",
    "                return 1 - wind_intensity\n",
    "            elif s1[0] == s[0] - 1 and s1[1] == s[1]:\n",
    "                return wind_intensity\n",
    "            else:\n",
    "                return 0\n",
    "        elif s[0] == 0 and s[1] == n - 1:\n",
    "            if s1[0] == s[0] and s1[1] == s[1]:\n",
    "                return 1\n",
    "            else:\n",
    "                return 0\n",
    "        elif s[0] == 0 and s[1] < n - 1:\n",
    "            if s1[0] == s[0] and s1[1] == s[1] + 1:\n",
    "                return 1\n",
    "            else:\n",
    "                return 0\n",
    "        else:\n",
    "            if s1[0] == s[0] and s1[1] == s[1] + 1:\n",
    "                return 1 - wind_intensity\n",
    "            elif s1[0] == s[0] - 1 and s1[1] == s[1] + 1:\n",
    "                return wind_intensity\n",
    "            else:\n",
    "                return 0\n",
    "            \n",
    "    if a == \"down\":\n",
    "        if s[0] in goal[0] and s[1] in goal[1]:\n",
    "            if s1[0] == s[0] and s1[1] == s[0]:\n",
    "                return 1\n",
    "            else: \n",
    "                return 0\n",
    "        elif s[0] != 0 and s[1] == 0:\n",
    "            if s1[0] == s[0] and s1[1] == s[1]:\n",
    "                return 1 - wind_intensity\n",
    "            elif s1[0] == s[0] - 1 and s1[1] == s[1]:\n",
    "                return wind_intensity\n",
    "            else:\n",
    "                return 0\n",
    "        elif s[0] == 0 and s[1] == 0:\n",
    "            if s1[0] == s[0] and s1[1] == s[1]:\n",
    "                return 1\n",
    "            else:\n",
    "                return 0\n",
    "        elif s[0] == 0 and s[1] > 0:\n",
    "            if s1[0] == s[0] and s1[1] == s[1] - 1:\n",
    "                return 1\n",
    "            else:\n",
    "                return 0\n",
    "        else:\n",
    "            if s1[0] == s[0] and s1[1] == s[1] - 1:\n",
    "                return 1 - wind_intensity\n",
    "            elif s1[0] == s[0] - 1 and s1[1] == s[1] - 1:\n",
    "                return wind_intensity\n",
    "            else:\n",
    "                return 0\n",
    "\n",
    "    if a == \"left\":\n",
    "        if s[0] in goal[0] and s[1] in goal[1]:\n",
    "            if s1[0] == s[0] and s1[1] == s[0]:\n",
    "                return 1\n",
    "            else: \n",
    "                return 0\n",
    "        elif s[0] == 0:\n",
    "            if s1[0] == s[0] and s1[1] == s[1]:\n",
    "                return 1\n",
    "            else:\n",
    "                return 0\n",
    "        elif s[0] == 1:\n",
    "            if s1[0] == s[0] - 1 and s1[1] == s[1]:\n",
    "                return 1\n",
    "            else:\n",
    "                return 0\n",
    "        else:\n",
    "            if s1[0] == s[0] - 1 and s1[1] == s[1]:\n",
    "                return 1 - wind_intensity\n",
    "            elif s1[0] == s[0] - 2 and s1[1] == s[1]:\n",
    "                return wind_intensity\n",
    "            else:\n",
    "                return 0\n",
    "\n",
    "    if a == \"right\":\n",
    "        if s[0] in goal[0] and s[1] in goal[1]:\n",
    "            if s1[0] == s[0] and s1[1] == s[0]:\n",
    "                return 1\n",
    "            else: \n",
    "                return 0\n",
    "        elif s[0] == n - 1:\n",
    "            if s1[0] == s[0] and s1[1] == s[1]:\n",
    "                return 1\n",
    "            else:\n",
    "                return 0\n",
    "        else:\n",
    "            if s1[0] == s[0] + 1 and s1[1] == s[1]:\n",
    "                return 1 - wind_intensity\n",
    "            elif s1[0] == s[0] and s1[1] == s[1]:\n",
    "                return wind_intensity\n",
    "            else:\n",
    "                return 0\n",
    "\n",
    "def cost(s, a, goal, obstacles):\n",
    "    r = -1\n",
    "    if s[0] in obstacles[0] and s[1] in obstacles[1]:\n",
    "        r = -10\n",
    "    elif s[0] in goal[0] and s[1] in goal[1]:\n",
    "        r = 10\n",
    "    if a == \"right\":\n",
    "        r -= wind_intensity\n",
    "    return r"
   ]
  },
  {
   "cell_type": "code",
   "execution_count": 41,
   "metadata": {},
   "outputs": [],
   "source": [
    "# go to the right always unless you are in the last column\n",
    "expert_occupancy_measure = np.zeros((n, n, len(actions)))\n",
    "expert_occupancy_measure[0, :n-1, 3] = 20.0\n",
    "#expert_occupancy_measure[1, :n-1, 3] = 5.0\n",
    "expert_occupancy_measure[:, n-1, 0] = 20.0\n",
    "expert_occupancy_measure[:n-1, n-2, 0] = 10.0\n",
    "\n",
    "rows, cols, _ = expert_occupancy_measure.shape\n",
    "for row in range(rows):\n",
    "    for col in range(cols):\n",
    "        if row in goal[0] and col in goal[1]:\n",
    "            expert_occupancy_measure[row, col, :] = 50.0\n",
    "        if row in obstacles[0] and col in obstacles[1]:\n",
    "            expert_occupancy_measure[row, col, :] = 1\n",
    "            expert_occupancy_measure[row, col, 3] = 0\n"
   ]
  },
  {
   "cell_type": "code",
   "execution_count": 42,
   "metadata": {},
   "outputs": [
    {
     "data": {
      "image/png": "[encoded data removed]",
      "text/plain": [
       "<Figure size 480x480 with 1 Axes>"
      ]
     },
     "metadata": {},
     "output_type": "display_data"
    }
   ],
   "source": [
    "plot_occupation(expert_occupancy_measure[:,:,0])"
   ]
  },
  {
   "cell_type": "code",
   "execution_count": 43,
   "metadata": {},
   "outputs": [
    {
     "data": {
      "image/png": "[encoded data removed]",
      "text/plain": [
       "<Figure size 480x480 with 1 Axes>"
      ]
     },
     "metadata": {},
     "output_type": "display_data"
    }
   ],
   "source": [
    "plot_occupation(expert_occupancy_measure[:,:,1])"
   ]
  },
  {
   "cell_type": "code",
   "execution_count": 44,
   "metadata": {},
   "outputs": [
    {
     "data": {
      "image/png": "[encoded data removed]",
      "text/plain": [
       "<Figure size 480x480 with 1 Axes>"
      ]
     },
     "metadata": {},
     "output_type": "display_data"
    }
   ],
   "source": [
    "plot_occupation(expert_occupancy_measure[:,:,2])"
   ]
  },
  {
   "cell_type": "code",
   "execution_count": 45,
   "metadata": {},
   "outputs": [
    {
     "data": {
      "image/png": "[encoded data removed]",
      "text/plain": [
       "<Figure size 480x480 with 1 Axes>"
      ]
     },
     "metadata": {},
     "output_type": "display_data"
    }
   ],
   "source": [
    "plot_occupation(expert_occupancy_measure[:,:,3])"
   ]
  },
  {
   "cell_type": "code",
   "execution_count": 46,
   "metadata": {},
   "outputs": [],
   "source": [
    "gridworld = GridWorld(grid, obstacles, goal, actions, transitions, init_dist, cost, gamma, expert_occupancy_measure, cost)\n",
    "gridworld.get_mdp()\n",
    "gridworld.mdp.build_T()"
   ]
  },
  {
   "cell_type": "code",
   "execution_count": 47,
   "metadata": {},
   "outputs": [
    {
     "name": "stdout",
     "output_type": "stream",
     "text": [
      "===============================================================================\n",
      "                                     CVXPY                                     \n",
      "                                     v1.5.3                                    \n",
      "===============================================================================\n",
      "(CVXPY) Aug 26 06:33:17 PM: Your problem has 500 variables, 400 constraints, and 0 parameters.\n",
      "(CVXPY) Aug 26 06:33:17 PM: It is compliant with the following grammars: DCP, DQCP\n",
      "(CVXPY) Aug 26 06:33:17 PM: (If you need to solve this problem multiple times, but with different data, consider using parameters.)\n",
      "(CVXPY) Aug 26 06:33:17 PM: CVXPY will first compile your problem; then, it will invoke a numerical solver to obtain a solution.\n",
      "(CVXPY) Aug 26 06:33:17 PM: Your problem is compiled with the CPP canonicalization backend.\n",
      "-------------------------------------------------------------------------------\n",
      "                                  Compilation                                  \n",
      "-------------------------------------------------------------------------------\n",
      "(CVXPY) Aug 26 06:33:17 PM: Compiling problem (target solver=CLARABEL).\n",
      "(CVXPY) Aug 26 06:33:17 PM: Reduction chain: Dcp2Cone -> CvxAttr2Constr -> ConeMatrixStuffing -> CLARABEL\n",
      "(CVXPY) Aug 26 06:33:17 PM: Applying reduction Dcp2Cone\n",
      "(CVXPY) Aug 26 06:33:17 PM: Applying reduction CvxAttr2Constr\n",
      "(CVXPY) Aug 26 06:33:17 PM: Applying reduction ConeMatrixStuffing\n",
      "(CVXPY) Aug 26 06:33:17 PM: Applying reduction CLARABEL\n",
      "(CVXPY) Aug 26 06:33:17 PM: Finished problem compilation (took 1.284e-02 seconds).\n",
      "-------------------------------------------------------------------------------\n",
      "                                Numerical solver                               \n",
      "-------------------------------------------------------------------------------\n",
      "(CVXPY) Aug 26 06:33:17 PM: Invoking solver CLARABEL  to obtain a solution.\n",
      "-------------------------------------------------------------\n",
      "           Clarabel.rs v0.9.0  -  Clever Acronym                \n",
      "\n",
      "                   (c) Paul Goulart                          \n",
      "                University of Oxford, 2022                   \n",
      "-------------------------------------------------------------\n",
      "\n",
      "problem:\n",
      "  variables     = 900\n",
      "  constraints   = 1200\n",
      "  nnz(P)        = 0\n",
      "  nnz(A)        = 2500\n",
      "  cones (total) = 1\n",
      "    : Nonnegative = 1,  numel = 1200\n",
      "\n",
      "settings:\n",
      "  linear algebra: direct / qdldl, precision: 64 bit\n",
      "  max iter = 200, time limit = Inf,  max step = 0.990\n",
      "  tol_feas = 1.0e-8, tol_gap_abs = 1.0e-8, tol_gap_rel = 1.0e-8,\n",
      "  static reg : on, ϵ1 = 1.0e-8, ϵ2 = 4.9e-32\n",
      "  dynamic reg: on, ϵ = 1.0e-13, δ = 2.0e-7\n",
      "  iter refine: on, reltol = 1.0e-13, abstol = 1.0e-12,\n",
      "               max iter = 10, stop ratio = 5.0\n",
      "  equilibrate: on, min_scale = 1.0e-4, max_scale = 1.0e4\n",
      "               max iter = 10\n",
      "\n",
      "iter    pcost        dcost       gap       pres      dres      k/t        μ       step      \n",
      "---------------------------------------------------------------------------------------------\n",
      "  0  +2.2071e+03  +2.2071e+03  2.04e-14  7.59e-01  3.09e+00  1.00e+00  1.20e+02   ------   \n",
      "  1  +1.4675e+03  +1.5629e+03  6.50e-02  3.76e-01  2.58e+00  9.62e+01  6.56e+01  9.90e-01  \n",
      "  2  +9.5330e+02  +9.9817e+02  4.71e-02  1.60e-01  1.08e+00  4.51e+01  3.33e+01  5.61e-01  \n",
      "  3  +5.5689e+02  +5.6384e+02  1.25e-02  4.15e-02  1.96e-01  6.98e+00  1.20e+01  7.26e-01  \n",
      "  4  +3.0728e+02  +3.0996e+02  8.73e-03  6.51e-03  2.80e-02  2.69e+00  2.78e+00  8.67e-01  \n",
      "  5  +3.0339e+02  +3.0591e+02  8.32e-03  5.89e-03  2.65e-02  2.53e+00  2.28e+00  2.81e-01  \n",
      "  6  +3.0148e+02  +3.0364e+02  7.17e-03  5.00e-03  2.73e-02  2.17e+00  1.82e+00  5.11e-01  \n",
      "  7  +2.9916e+02  +3.0104e+02  6.29e-03  4.80e-03  2.62e-02  1.89e+00  1.74e+00  1.37e-01  \n",
      "  8  +2.7444e+02  +2.7549e+02  3.81e-03  3.00e-03  1.77e-02  1.05e+00  1.11e+00  5.06e-01  \n",
      "  9  +2.5659e+02  +2.5716e+02  2.21e-03  2.09e-03  1.25e-02  5.68e-01  7.82e-01  4.26e-01  \n",
      " 10  +2.3902e+02  +2.3933e+02  1.30e-03  1.18e-03  7.47e-03  3.11e-01  4.52e-01  4.90e-01  \n",
      " 11  +2.1705e+02  +2.1710e+02  2.21e-04  3.01e-04  2.01e-03  4.83e-02  1.18e-01  8.50e-01  \n",
      " 12  +2.0923e+02  +2.0924e+02  1.25e-05  2.19e-05  1.47e-04  2.65e-03  8.66e-03  9.54e-01  \n",
      " 13  +2.0855e+02  +2.0855e+02  1.34e-07  2.36e-07  1.59e-06  2.83e-05  9.36e-05  9.89e-01  \n",
      " 14  +2.0854e+02  +2.0854e+02  1.34e-09  2.36e-09  1.59e-08  2.83e-07  9.36e-07  9.90e-01  \n",
      " 15  +2.0854e+02  +2.0854e+02  1.34e-11  2.36e-11  1.59e-10  2.83e-09  9.36e-09  9.90e-01  \n",
      "---------------------------------------------------------------------------------------------\n",
      "Terminated with status = Solved\n",
      "solve time = 3.6509ms\n",
      "-------------------------------------------------------------------------------\n",
      "                                    Summary                                    \n",
      "-------------------------------------------------------------------------------\n",
      "(CVXPY) Aug 26 06:33:17 PM: Problem status: optimal\n",
      "(CVXPY) Aug 26 06:33:17 PM: Optimal value: 2.085e+02\n",
      "(CVXPY) Aug 26 06:33:17 PM: Compilation took 1.284e-02 seconds\n",
      "(CVXPY) Aug 26 06:33:17 PM: Solver (including time spent in interface) took 5.001e-03 seconds\n"
     ]
    }
   ],
   "source": [
    "solver = Solver(gridworld.mdp, gridworld.c_hat, gridworld.mdp.mu_e)\n",
    "prob, c, u = solver.solve()"
   ]
  },
  {
   "cell_type": "code",
   "execution_count": 48,
   "metadata": {},
   "outputs": [],
   "source": [
    "c_reconstructed = np.zeros((n, n, len(actions)))\n",
    "for i in range(len(c.value)):    \n",
    "    c_reconstructed[gridworld.S_to_grid[i % n**2][0], \n",
    "                    gridworld.S_to_grid[i % n**2][1], \n",
    "                    int(i / n**2)\n",
    "                    ] = c.value[i]"
   ]
  },
  {
   "cell_type": "code",
   "execution_count": 49,
   "metadata": {},
   "outputs": [
    {
     "name": "stdout",
     "output_type": "stream",
     "text": [
      "UP\n"
     ]
    },
    {
     "data": {
      "image/png": "[encoded data removed]",
      "text/plain": [
       "<Figure size 480x480 with 1 Axes>"
      ]
     },
     "metadata": {},
     "output_type": "display_data"
    }
   ],
   "source": [
    "print(\"UP\")\n",
    "plot_cost_function(c_reconstructed[:, :, 0])"
   ]
  },
  {
   "cell_type": "code",
   "execution_count": 50,
   "metadata": {},
   "outputs": [
    {
     "name": "stdout",
     "output_type": "stream",
     "text": [
      "DOWN\n"
     ]
    },
    {
     "data": {
      "image/png": "[encoded data removed]",
      "text/plain": [
       "<Figure size 480x480 with 1 Axes>"
      ]
     },
     "metadata": {},
     "output_type": "display_data"
    }
   ],
   "source": [
    "print(\"DOWN\")\n",
    "plot_cost_function(c_reconstructed[:, :, 1])"
   ]
  },
  {
   "cell_type": "code",
   "execution_count": 51,
   "metadata": {},
   "outputs": [
    {
     "name": "stdout",
     "output_type": "stream",
     "text": [
      "LEFT\n"
     ]
    },
    {
     "data": {
      "image/png": "[encoded data removed]",
      "text/plain": [
       "<Figure size 480x480 with 1 Axes>"
      ]
     },
     "metadata": {},
     "output_type": "display_data"
    }
   ],
   "source": [
    "print(\"LEFT\")\n",
    "plot_cost_function(c_reconstructed[:, :, 2])"
   ]
  },
  {
   "cell_type": "code",
   "execution_count": 52,
   "metadata": {},
   "outputs": [
    {
     "name": "stdout",
     "output_type": "stream",
     "text": [
      "RIGHT\n"
     ]
    },
    {
     "data": {
      "image/png": "[encoded data removed]",
      "text/plain": [
       "<Figure size 480x480 with 1 Axes>"
      ]
     },
     "metadata": {},
     "output_type": "display_data"
    }
   ],
   "source": [
    "print(\"RIGHT\")\n",
    "plot_cost_function(c_reconstructed[:, :, 3])"
   ]
  },
  {
   "cell_type": "code",
   "execution_count": 53,
   "metadata": {},
   "outputs": [
    {
     "data": {
      "image/png": "[encoded data removed]",
      "text/plain": [
       "<Figure size 480x480 with 1 Axes>"
      ]
     },
     "metadata": {},
     "output_type": "display_data"
    }
   ],
   "source": [
    "u_reconstructed = np.zeros((n, n))\n",
    "for i in range(len(u.value)):\n",
    "    u_reconstructed[gridworld.S_to_grid[i][0], gridworld.S_to_grid[i][1]] = u.value[i]\n",
    "plot_cost_function(u_reconstructed)"
   ]
  },
  {
   "cell_type": "markdown",
   "metadata": {},
   "source": [
    "### Inverse Optimization for Cost Function"
   ]
  },
  {
   "cell_type": "code",
   "execution_count": 54,
   "metadata": {},
   "outputs": [
    {
     "name": "stdout",
     "output_type": "stream",
     "text": [
      "===============================================================================\n",
      "                                     CVXPY                                     \n",
      "                                     v1.5.3                                    \n",
      "===============================================================================\n",
      "(CVXPY) Aug 26 06:33:17 PM: Your problem has 500 variables, 401 constraints, and 0 parameters.\n",
      "(CVXPY) Aug 26 06:33:17 PM: It is compliant with the following grammars: DCP, DQCP\n",
      "(CVXPY) Aug 26 06:33:17 PM: (If you need to solve this problem multiple times, but with different data, consider using parameters.)\n",
      "(CVXPY) Aug 26 06:33:17 PM: CVXPY will first compile your problem; then, it will invoke a numerical solver to obtain a solution.\n",
      "(CVXPY) Aug 26 06:33:17 PM: Your problem is compiled with the CPP canonicalization backend.\n",
      "-------------------------------------------------------------------------------\n",
      "                                  Compilation                                  \n",
      "-------------------------------------------------------------------------------\n",
      "(CVXPY) Aug 26 06:33:17 PM: Compiling problem (target solver=CLARABEL).\n",
      "(CVXPY) Aug 26 06:33:17 PM: Reduction chain: Dcp2Cone -> CvxAttr2Constr -> ConeMatrixStuffing -> CLARABEL\n",
      "(CVXPY) Aug 26 06:33:17 PM: Applying reduction Dcp2Cone\n",
      "(CVXPY) Aug 26 06:33:17 PM: Applying reduction CvxAttr2Constr\n",
      "(CVXPY) Aug 26 06:33:17 PM: Applying reduction ConeMatrixStuffing\n",
      "(CVXPY) Aug 26 06:33:17 PM: Applying reduction CLARABEL\n",
      "(CVXPY) Aug 26 06:33:17 PM: Finished problem compilation (took 4.750e-03 seconds).\n",
      "-------------------------------------------------------------------------------\n",
      "                                Numerical solver                               \n",
      "-------------------------------------------------------------------------------\n",
      "(CVXPY) Aug 26 06:33:17 PM: Invoking solver CLARABEL  to obtain a solution.\n",
      "-------------------------------------------------------------\n",
      "           Clarabel.rs v0.9.0  -  Clever Acronym                \n",
      "\n",
      "                   (c) Paul Goulart                          \n",
      "                University of Oxford, 2022                   \n",
      "-------------------------------------------------------------\n",
      "\n",
      "problem:\n",
      "  variables     = 900\n",
      "  constraints   = 1201\n",
      "  nnz(P)        = 0\n",
      "  nnz(A)        = 2589\n",
      "  cones (total) = 2\n",
      "    :        Zero = 1,  numel = 1\n",
      "    : Nonnegative = 1,  numel = 1200\n",
      "\n",
      "settings:\n",
      "  linear algebra: direct / qdldl, precision: 64 bit\n",
      "  max iter = 200, time limit = Inf,  max step = 0.990\n",
      "  tol_feas = 1.0e-8, tol_gap_abs = 1.0e-8, tol_gap_rel = 1.0e-8,\n",
      "  static reg : on, ϵ1 = 1.0e-8, ϵ2 = 4.9e-32\n",
      "  dynamic reg: on, ϵ = 1.0e-13, δ = 2.0e-7\n",
      "  iter refine: on, reltol = 1.0e-13, abstol = 1.0e-12,\n",
      "               max iter = 10, stop ratio = 5.0\n",
      "  equilibrate: on, min_scale = 1.0e-4, max_scale = 1.0e4\n",
      "               max iter = 10\n",
      "\n",
      "iter    pcost        dcost       gap       pres      dres      k/t        μ       step      \n",
      "---------------------------------------------------------------------------------------------\n",
      "  0  +0.0000e+00  +5.1035e-12  5.10e-12  4.56e-01  4.36e-01  1.00e+00  1.40e+01   ------   \n",
      "  1  +2.9887e+02  +3.0148e+02  8.73e-03  4.80e-02  2.92e-02  2.93e+00  7.13e+00  7.95e-01  \n",
      "  2  +2.7743e+02  +2.7880e+02  4.93e-03  1.16e-02  6.88e-03  1.47e+00  2.81e+00  6.74e-01  \n",
      "  3  +2.4509e+02  +2.4566e+02  2.32e-03  3.46e-03  2.04e-03  6.08e-01  1.12e+00  6.40e-01  \n",
      "  4  +2.3001e+02  +2.3033e+02  1.41e-03  2.12e-03  1.25e-03  3.49e-01  7.22e-01  4.68e-01  \n",
      "  5  +2.1691e+02  +2.1702e+02  5.17e-04  8.82e-04  5.17e-04  1.24e-01  3.46e-01  7.85e-01  \n",
      "  6  +2.0950e+02  +2.0951e+02  5.95e-05  1.03e-04  6.01e-05  1.38e-02  4.10e-02  8.95e-01  \n",
      "  7  +2.0859e+02  +2.0859e+02  1.67e-06  3.96e-06  2.32e-06  4.01e-04  1.59e-03  9.90e-01  \n",
      "  8  +2.0854e+02  +2.0854e+02  1.67e-08  3.98e-08  2.33e-08  4.02e-06  1.59e-05  9.90e-01  \n",
      "  9  +2.0854e+02  +2.0854e+02  1.67e-10  3.98e-10  2.33e-10  4.02e-08  1.59e-07  9.90e-01  \n",
      "---------------------------------------------------------------------------------------------\n",
      "Terminated with status = Solved\n",
      "solve time = 2.6884ms\n",
      "-------------------------------------------------------------------------------\n",
      "                                    Summary                                    \n",
      "-------------------------------------------------------------------------------\n",
      "(CVXPY) Aug 26 06:33:17 PM: Problem status: optimal\n",
      "(CVXPY) Aug 26 06:33:17 PM: Optimal value: 2.085e+02\n",
      "(CVXPY) Aug 26 06:33:17 PM: Compilation took 4.750e-03 seconds\n",
      "(CVXPY) Aug 26 06:33:17 PM: Solver (including time spent in interface) took 4.551e-03 seconds\n"
     ]
    }
   ],
   "source": [
    "prob, c, u = solver.solve_irl()"
   ]
  },
  {
   "cell_type": "code",
   "execution_count": 55,
   "metadata": {},
   "outputs": [],
   "source": [
    "c_reconstructed = np.zeros((n, n, len(actions)))\n",
    "for i in range(len(c.value)):    \n",
    "    c_reconstructed[gridworld.S_to_grid[i % n**2][0], \n",
    "                    gridworld.S_to_grid[i % n**2][1], \n",
    "                    int(i / n**2)\n",
    "                    ] = c.value[i]\n",
    "u_reconstructed = np.zeros((n, n))\n",
    "for i in range(len(u.value)):\n",
    "    u_reconstructed[gridworld.S_to_grid[i][0], gridworld.S_to_grid[i][1]] = u.value[i]"
   ]
  },
  {
   "cell_type": "code",
   "execution_count": 56,
   "metadata": {},
   "outputs": [
    {
     "name": "stdout",
     "output_type": "stream",
     "text": [
      "UP\n"
     ]
    },
    {
     "data": {
      "image/png": "[encoded data removed]",
      "text/plain": [
       "<Figure size 480x480 with 1 Axes>"
      ]
     },
     "metadata": {},
     "output_type": "display_data"
    },
    {
     "name": "stdout",
     "output_type": "stream",
     "text": [
      "DOWN\n"
     ]
    },
    {
     "data": {
      "image/png": "[encoded data removed]",
      "text/plain": [
       "<Figure size 480x480 with 1 Axes>"
      ]
     },
     "metadata": {},
     "output_type": "display_data"
    },
    {
     "name": "stdout",
     "output_type": "stream",
     "text": [
      "LEFT\n"
     ]
    },
    {
     "data": {
      "image/png": "[encoded data removed]",
      "text/plain": [
       "<Figure size 480x480 with 1 Axes>"
      ]
     },
     "metadata": {},
     "output_type": "display_data"
    },
    {
     "name": "stdout",
     "output_type": "stream",
     "text": [
      "RIGHT\n"
     ]
    },
    {
     "data": {
      "image/png": "[encoded data removed]",
      "text/plain": [
       "<Figure size 480x480 with 1 Axes>"
      ]
     },
     "metadata": {},
     "output_type": "display_data"
    }
   ],
   "source": [
    "print(\"UP\")\n",
    "plot_cost_function(c_reconstructed[:, :, 0])\n",
    "print(\"DOWN\")\n",
    "plot_cost_function(c_reconstructed[:, :, 1])\n",
    "print(\"LEFT\")\n",
    "plot_cost_function(c_reconstructed[:, :, 2])\n",
    "print(\"RIGHT\")\n",
    "plot_cost_function(c_reconstructed[:, :, 3])"
   ]
  },
  {
   "cell_type": "code",
   "execution_count": 57,
   "metadata": {},
   "outputs": [
    {
     "data": {
      "image/png": "[encoded data removed]",
      "text/plain": [
       "<Figure size 480x480 with 1 Axes>"
      ]
     },
     "metadata": {},
     "output_type": "display_data"
    }
   ],
   "source": [
    "plot_cost_function(u_reconstructed)"
   ]
  }
 ],
 "metadata": {
  "kernelspec": {
   "display_name": "venv",
   "language": "python",
   "name": "python3"
  },
  "language_info": {
   "codemirror_mode": {
    "name": "ipython",
    "version": 3
   },
   "file_extension": ".py",
   "mimetype": "text/x-python",
   "name": "python",
   "nbconvert_exporter": "python",
   "pygments_lexer": "ipython3",
   "version": "3.10.11"
  }
 },
 "nbformat": 4,
 "nbformat_minor": 2
}
